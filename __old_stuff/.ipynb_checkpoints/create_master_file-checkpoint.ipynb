{
 "cells": [
  {
   "cell_type": "code",
   "execution_count": 1,
   "metadata": {},
   "outputs": [],
   "source": [
    "import csv\n",
    "import numpy as np\n",
    "\n",
    "MJUPITER = 1.898e27\n",
    "MEARTH = 5.972e24\n",
    "RJUPITER = 69.911e6\n",
    "REARTH = 6371e3"
   ]
  },
  {
   "cell_type": "code",
   "execution_count": 2,
   "metadata": {},
   "outputs": [],
   "source": [
    "class System:\n",
    "    def __init__(self, sysid=None):\n",
    "        self.sysid = sysid"
   ]
  },
  {
   "cell_type": "code",
   "execution_count": 3,
   "metadata": {},
   "outputs": [],
   "source": [
    "my_file = 'C:/Users/djhoo/Documents/maiasaurus-master/catalogues/exoarchive_ipac_confirmed_200507.csv'  #reading in file\n",
    "\n",
    "raw_data = []\n",
    "with open(my_file) as infile:\n",
    "    reader = csv.reader(infile)\n",
    "    \n",
    "    for row in reader:\n",
    "        raw_data.append(row)\n",
    "        \n",
    "KEYS = raw_data[77]\n",
    "VALUES = raw_data[78:]\n",
    "\n",
    "def get_key(keyname, keys = KEYS, values = VALUES):\n",
    "    i = keys.index(keyname)\n",
    "    arr = []\n",
    "    for row in values:\n",
    "        arr.append(row[i])\n",
    "    return arr"
   ]
  },
  {
   "cell_type": "code",
   "execution_count": 4,
   "metadata": {},
   "outputs": [
    {
     "name": "stdout",
     "output_type": "stream",
     "text": [
      "Number of Exoarchive planets: 4152\n"
     ]
    }
   ],
   "source": [
    "def is_number(num):\n",
    "    '''\n",
    "    Checks if a piece of data (in string format) is a number or not.\n",
    "    '''\n",
    "    try:\n",
    "        float(num)\n",
    "        return True\n",
    "    except ValueError:\n",
    "        return False \n",
    "\n",
    "def convert_masses(mass_arr):\n",
    "    new_mass_arr = []\n",
    "    for m in mass_arr:\n",
    "        if is_number(m):\n",
    "            m = str(float(m)*MJUPITER/MEARTH)\n",
    "        new_mass_arr.append(m)\n",
    "    return new_mass_arr\n",
    "\n",
    "def convert_radii(radii_arr):\n",
    "    new_radii_arr = []\n",
    "    for r in radii_arr:\n",
    "        if is_number(r):\n",
    "            r = str(float(r)*RJUPITER/REARTH)\n",
    "        new_radii_arr.append(r)\n",
    "    return new_radii_arr\n",
    "        \n",
    "\n",
    "d = {}\n",
    "d['starname'] = get_key('pl_hostname')\n",
    "d['rp'] = convert_radii(get_key('pl_radj'))  #get radius of planets (Earth radius)\n",
    "d['rs'] = get_key('st_rad')  #get radius of star (solar radii)\n",
    "d['mp'] = convert_masses(get_key('pl_bmassj'))  #get mass of planets (in Earth masses)\n",
    "                                #mass can be expressed as Msin(i), where i is the inclination\n",
    "d['ms'] = get_key('st_mass')  #get mass of stars (in solar masses)\n",
    "d['p'] = get_key('pl_orbper')  #get planet's period (in days)\n",
    "d['disc_method'] = get_key('pl_discmethod')  #get planet's discovery method\n",
    "d['source'] = ['Exoarchive']*len(d['disc_method'])\n",
    "d['update'] = get_key('rowupdate')\n",
    "d['temp'] = get_key('st_teff')\n",
    "d['ms_error'] = get_key('st_masserr1')\n",
    "\n",
    "print('Number of Exoarchive planets: %d' %len(d['starname']))"
   ]
  },
  {
   "cell_type": "code",
   "execution_count": 5,
   "metadata": {},
   "outputs": [
    {
     "name": "stdout",
     "output_type": "stream",
     "text": [
      "Number of CKS planets: 864\n"
     ]
    }
   ],
   "source": [
    "my_file = 'C:/Users/djhoo/Documents/maiasaurus-master/catalogues/clean_kepler_catalogue.csv'\n",
    "cks_data = []\n",
    "with open(my_file) as infile:\n",
    "    reader = csv.reader(infile)\n",
    "    \n",
    "    for row in reader:\n",
    "        cks_data.append(row)\n",
    "        \n",
    "KEYS = cks_data[0]\n",
    "VALUES = cks_data[1:]\n",
    "\n",
    "def get_key(keyname,keys=KEYS,values=VALUES):\n",
    "    '''\n",
    "    keyname = (string) of column definition, see CKS documentation\n",
    "    '''\n",
    "    kid = keys.index(keyname)\n",
    "    \n",
    "    dummy = []\n",
    "    for row in values:\n",
    "        dummy.append(row[kid])\n",
    "    \n",
    "    return dummy\n",
    "\n",
    "d['starname'] = np.concatenate((d['starname'], get_key('id_starname')))\n",
    "d['rp'] = np.concatenate((d['rp'], get_key('iso_prad')))\n",
    "d['rs'] = np.concatenate((d['rs'], get_key('iso_srad')))\n",
    "d['ms'] = np.concatenate((d['ms'], get_key('iso_smass')))\n",
    "d['p'] = np.concatenate((d['p'], get_key('koi_period')))\n",
    "d['disc_method'] = np.concatenate((d['disc_method'], ['Transit']*len(get_key('koi_period'))))\n",
    "\n",
    "masses = np.load('C:/Users/djhoo/Documents/maiasaurus-master/catalogues/cks_pred_masses_oct9.npy')[0]\n",
    "d['mp'] = np.concatenate([d['mp'], masses])\n",
    "d['source'] = np.concatenate((d['source'], ['cks']*len(get_key('koi_period'))))\n",
    "d['update'] = np.concatenate((d['update'], ['']*len(get_key('koi_period'))))\n",
    "d['temp'] = np.concatenate((d['temp'], get_key('koi_steff')))\n",
    "d['ms_error'] = np.concatenate((d['ms_error'], get_key('koi_smass_err1')))\n",
    "\n",
    "print('Number of CKS planets: %d' %len(get_key('id_starname')))"
   ]
  },
  {
   "cell_type": "code",
   "execution_count": 6,
   "metadata": {},
   "outputs": [
    {
     "name": "stdout",
     "output_type": "stream",
     "text": [
      "Number of DR25 planets: 8660\n"
     ]
    }
   ],
   "source": [
    "my_file = 'C:/Users/djhoo/Documents/maiasaurus-master/catalogues/kepler_dr25.csv'\n",
    "cks_data = []\n",
    "with open(my_file) as infile:\n",
    "    reader = csv.reader(infile)\n",
    "    \n",
    "    for row in reader:\n",
    "        cks_data.append(row)\n",
    "        \n",
    "KEYS = cks_data[0]\n",
    "VALUES = cks_data[1:]\n",
    "\n",
    "def get_key(keyname,keys=KEYS,values=VALUES):\n",
    "    '''\n",
    "    keyname = (string) of column definition, see first line\n",
    "    '''\n",
    "    kid = keys.index(keyname)\n",
    "    \n",
    "    dummy = []\n",
    "    for row in values:\n",
    "        dummy.append(row[kid])\n",
    "    \n",
    "    return dummy\n",
    "\n",
    "names = get_key('kepoi_name')\n",
    "for i in range(len(names)):\n",
    "    names[i] = names[i][0:names[i].find('.')]\n",
    "rp = get_key('koi_prad')\n",
    "rs = get_key('koi_srad')\n",
    "mp = ['']*len(get_key('koi_srad'))\n",
    "ms = get_key('koi_smass')\n",
    "p = get_key('koi_period')\n",
    "disc_method = ['Transit']*len(get_key('koi_period'))\n",
    "source = ['dr_25']*len(get_key('koi_period'))\n",
    "update = ['']*len(get_key('koi_period'))\n",
    "temp = get_key('koi_steff')\n",
    "ms_err = get_key('koi_smass_err1')\n",
    "count = 0\n",
    "\n",
    "for i in range(len(names)):\n",
    "    if d['mp'][d['starname']==names[i]].tolist() != ['']*len(d['starname'][d['starname']==names[i]]):\n",
    "        pass\n",
    "    else:\n",
    "        np.append(d['starname'], names[i])\n",
    "        np.append(d['rp'], rp[i])\n",
    "        np.append(d['mp'], mp[i])\n",
    "        np.append(d['ms'], ms[i])\n",
    "        np.append(d['p'], p[i])\n",
    "        np.append(d['disc_method'], disc_method[i])\n",
    "        np.append(d['source'], source[i])\n",
    "        np.append(d['update'], update[i])\n",
    "        np.append(d['temp'], temp[i])\n",
    "        np.append(d['ms_error'], ms_err[i])\n",
    "        count = count + 1\n",
    "\n",
    "print('Number of DR25 planets: %d' %count)"
   ]
  },
  {
   "cell_type": "code",
   "execution_count": 7,
   "metadata": {},
   "outputs": [],
   "source": [
    "def check_uniformity(detection_methods):\n",
    "    default_disc = detection_methods[0]\n",
    "    status = True\n",
    "    for i in range(len(detection_methods)):\n",
    "        if detection_methods[i] != default_disc:\n",
    "            status = False\n",
    "    return status\n",
    "\n",
    "d['system_disc_method'] = ['']*len(d['starname'])\n",
    "\n",
    "#mixed = ['GJ 357', 'Kepler-25', 'Kepler-411', 'Kepler-48', 'Kepler-65', 'Kepler-68', 'Kepler-82', \\\n",
    "#        'HD 3167', 'Kepler-20', 'Kepler-56', 'WASP-47', 'Kepler-19']\n",
    "\n",
    "for i in range(len(d['starname'])):\n",
    "    if check_uniformity(d['disc_method'][d['starname']==d['starname'][i]]) == False:\n",
    "        d['system_disc_method'][i] = 'Mixed'\n",
    "    else:\n",
    "        d['system_disc_method'][i] = d['disc_method'][i]"
   ]
  },
  {
   "cell_type": "code",
   "execution_count": 8,
   "metadata": {},
   "outputs": [
    {
     "name": "stdout",
     "output_type": "stream",
     "text": [
      "Writing Complete!\n"
     ]
    }
   ],
   "source": [
    "'''\n",
    "The data entries are the following:\n",
    "\n",
    "- Starname - name of host star\n",
    "- Rp - radius of exoplanet (in Earth radii)\n",
    "- Mp - mass of exoplanet (in Earth masses)\n",
    "- P - period of exoplanet (in days)\n",
    "- Rs - radius of host star (in solar radii)\n",
    "- Ms - mass of host star (in solar masses)\n",
    "- Ms_err - uncertainty in mass of host star (in solar masses)\n",
    "- Temp - temperature of host star (in K)\n",
    "- Detection Method - detection method (Radial Velocity, Transit, or Mixed)\n",
    "- Source - original text file\n",
    "- System Detection Method - the detection method of a system as a whole\n",
    "'''\n",
    "\n",
    "output_heading = ['Starname', 'Rp', 'Mp', 'P', 'Rs', 'Ms', 'Ms-Err', 'Detection Method', 'Source', \\\n",
    "                  'System Detection Method']\n",
    "myData = [output_heading]\n",
    "for i in range(len(d['starname'])):\n",
    "    arr = []\n",
    "    arr.append(d['starname'][i])\n",
    "    arr.append(d['rp'][i])\n",
    "    arr.append(d['mp'][i])\n",
    "    arr.append(d['p'][i])\n",
    "    arr.append(d['rs'][i])\n",
    "    arr.append(d['ms'][i])\n",
    "    arr.append(d['ms_error'][i])\n",
    "    arr.append(d['disc_method'][i])\n",
    "    arr.append(d['source'][i])\n",
    "    arr.append(d['system_disc_method'][i])\n",
    "    myData.append(arr)\n",
    "outputFile = open('C:/Users/djhoo/Documents/maiasaurus-master/catalogues/exoarchive_dr25_cks_combined.csv', 'w', newline='')\n",
    "with outputFile:\n",
    "    writer = csv.writer(outputFile)\n",
    "    writer.writerows(myData)\n",
    "print('Writing Complete!')\n",
    "    "
   ]
  },
  {
   "cell_type": "code",
   "execution_count": null,
   "metadata": {},
   "outputs": [],
   "source": []
  }
 ],
 "metadata": {
  "kernelspec": {
   "display_name": "Python 3",
   "language": "python",
   "name": "python3"
  },
  "language_info": {
   "codemirror_mode": {
    "name": "ipython",
    "version": 3
   },
   "file_extension": ".py",
   "mimetype": "text/x-python",
   "name": "python",
   "nbconvert_exporter": "python",
   "pygments_lexer": "ipython3",
   "version": "3.7.3"
  }
 },
 "nbformat": 4,
 "nbformat_minor": 4
}
