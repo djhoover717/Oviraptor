{
 "cells": [
  {
   "cell_type": "code",
   "execution_count": 1,
   "metadata": {},
   "outputs": [],
   "source": [
    "import numpy as np\n",
    "import matplotlib.pyplot as plt\n",
    "\n",
    "import scipy\n",
    "import scipy.optimize as op\n",
    "from scipy import stats"
   ]
  },
  {
   "cell_type": "code",
   "execution_count": 2,
   "metadata": {},
   "outputs": [
    {
     "data": {
      "image/png": "[encoded data removed]",
      "text/plain": [
       "<Figure size 432x288 with 1 Axes>"
      ]
     },
     "metadata": {
      "needs_background": "light"
     },
     "output_type": "display_data"
    }
   ],
   "source": [
    "alpha = np.array([0.25, 0.10, 0.05, 0.025, 0.01])\n",
    "tm = np.array([0.326, 1.225, 1.960, 2.719, 3.752])\n",
    "\n",
    "\n",
    "def exponential(theta, x):\n",
    "    return theta[0]*np.exp(-x/theta[1])\n",
    "\n",
    "def res_fxn(theta, x, y):\n",
    "    return y - exponential(theta,x)\n",
    "\n",
    "\n",
    "theta_guess = [tm[0], 1]\n",
    "theta_fit, success = op.leastsq(res_fxn, theta_guess, args=(tm, alpha))\n",
    "\n",
    "\n",
    "plt.figure()\n",
    "plt.plot(tm, alpha, \"k.\")\n",
    "plt.plot(tm, exponential(theta_fit, tm))\n",
    "plt.show()"
   ]
  },
  {
   "cell_type": "code",
   "execution_count": null,
   "metadata": {},
   "outputs": [],
   "source": []
  },
  {
   "cell_type": "code",
   "execution_count": 12,
   "metadata": {},
   "outputs": [],
   "source": [
    "def extrapolated_anderson_ksamp(x1, x2):\n",
    "    A, cv, p = stats.anderson_ksamp([x1, x2])\n",
    "\n",
    "    alpha = np.array([0.25, 0.10, 0.05, 0.025, 0.01, 0.005, 0.001])\n",
    "    \n",
    "    \n",
    "    res_fxn = lambda theta, x, y: y - theta[0]*np.exp(-x/theta[1])\n",
    "    \n",
    "    fit, success = op.leastsq(res_fxn, [0.25, 1], args=(cv, alpha))\n",
    "    \n",
    "    \n",
    "    return A, np.min([0.999999, fit[0]*np.exp(-A/fit[1])])"
   ]
  },
  {
   "cell_type": "code",
   "execution_count": 31,
   "metadata": {},
   "outputs": [
    {
     "data": {
      "text/plain": [
       "(0.3696797277221972, 0.23863147496189402)"
      ]
     },
     "execution_count": 31,
     "metadata": {},
     "output_type": "execute_result"
    }
   ],
   "source": [
    "x1 = np.random.normal(size=1000)\n",
    "x2 = np.random.normal(size=1000)\n",
    "\n",
    "extrapolated_anderson_ksamp(x1, x2)"
   ]
  },
  {
   "cell_type": "code",
   "execution_count": null,
   "metadata": {},
   "outputs": [],
   "source": []
  }
 ],
 "metadata": {
  "kernelspec": {
   "display_name": "Python 3",
   "language": "python",
   "name": "python3"
  },
  "language_info": {
   "codemirror_mode": {
    "name": "ipython",
    "version": 3
   },
   "file_extension": ".py",
   "mimetype": "text/x-python",
   "name": "python",
   "nbconvert_exporter": "python",
   "pygments_lexer": "ipython3",
   "version": "3.7.3"
  }
 },
 "nbformat": 4,
 "nbformat_minor": 2
}
