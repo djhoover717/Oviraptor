{
 "cells": [
  {
   "cell_type": "markdown",
   "metadata": {},
   "source": [
    "### Fills in missing values in the exoarchive catalog using more recently-measured values from the Gaia DR2.\n",
    "### Removes planets that are controversial or have detection methods other than transit, RV, or TTV.\n",
    "### Outputs the new results in ovriraptor_crossmatch_catalog."
   ]
  },
  {
   "cell_type": "code",
   "execution_count": 1,
   "metadata": {},
   "outputs": [],
   "source": [
    "# IMPORT STATEMENTS AND PRELIMINARIES\n",
    "\n",
    "import numpy as np\n",
    "import csv\n",
    "import matplotlib.pyplot as plt\n",
    "from scipy import stats\n",
    "from scipy.optimize import newton\n",
    "\n",
    "from astropy.constants import R_earth\n",
    "from astropy.constants import R_jup\n",
    "from astropy.constants import G\n",
    "from astropy.constants import M_sun\n",
    "from astropy.constants import M_earth\n",
    "from astropy.constants import M_jup\n",
    "\n",
    "RERJ = float(R_earth/R_jup)\n",
    "\n",
    "BIGG = G.value\n",
    "MSUN = M_sun.value\n",
    "MEARTH = M_earth.value\n",
    "MJUPITER = M_jup.value\n",
    "\n",
    "pi = np.pi\n",
    "\n",
    "MAINPATH = 'C:/Users/djhoo/Documents/Oviraptor-master/'"
   ]
  },
  {
   "cell_type": "markdown",
   "metadata": {},
   "source": [
    "# Read in exoarchive data"
   ]
  },
  {
   "cell_type": "code",
   "execution_count": 2,
   "metadata": {},
   "outputs": [],
   "source": [
    "# file names\n",
    "planet_file = MAINPATH + \"catalogues/exoarchive_systems_20201204.csv\"\n",
    "\n",
    "# convenience function to read in csv file\n",
    "def read_csv_file(filename):\n",
    "    data = []\n",
    "    with open(filename) as infile:\n",
    "        reader = csv.reader(infile)\n",
    "\n",
    "        for row in reader:\n",
    "            data.append(row)\n",
    "\n",
    "        keys   = data[107]\n",
    "        values = data[108:]\n",
    "            \n",
    "        return keys, values\n",
    "\n",
    "\n",
    "# READ IN DR25 DATABASE -- https://exoplanetarchive.ipac.caltech.edu\n",
    "csv_keys, csv_data = read_csv_file(planet_file)"
   ]
  },
  {
   "cell_type": "code",
   "execution_count": 3,
   "metadata": {},
   "outputs": [],
   "source": [
    "# convenience functions to pull data from csv files\n",
    "def getdata(keyname,keys=csv_keys,data=csv_data):\n",
    "    '''\n",
    "    keyname = (string) of column definition, see CKS documentation\n",
    "    '''\n",
    "    kid = keys.index(keyname)\n",
    "    \n",
    "    outdata = []\n",
    "    for row in data:\n",
    "        outdata.append(row[kid])\n",
    "    \n",
    "    return outdata"
   ]
  },
  {
   "cell_type": "code",
   "execution_count": 4,
   "metadata": {},
   "outputs": [],
   "source": [
    "# read data into a dictionary\n",
    "data = {}\n",
    "for k in csv_keys:\n",
    "    data[k] = getdata(k)"
   ]
  },
  {
   "cell_type": "code",
   "execution_count": 5,
   "metadata": {},
   "outputs": [
    {
     "name": "stdout",
     "output_type": "stream",
     "text": [
      "dict_keys(['pl_name', 'hostname', 'default_flag', 'sy_snum', 'sy_pnum', 'discoverymethod', 'disc_year', 'disc_facility', 'soltype', 'pl_controv_flag', 'pl_refname', 'pl_orbper', 'pl_orbpererr1', 'pl_orbpererr2', 'pl_orbperlim', 'pl_rade', 'pl_radeerr1', 'pl_radeerr2', 'pl_radelim', 'pl_radj', 'pl_radjerr1', 'pl_radjerr2', 'pl_radjlim', 'pl_bmasse', 'pl_bmasseerr1', 'pl_bmasseerr2', 'pl_bmasselim', 'pl_bmassj', 'pl_bmassjerr1', 'pl_bmassjerr2', 'pl_bmassjlim', 'pl_bmassprov', 'pl_orbeccen', 'pl_orbeccenerr1', 'pl_orbeccenerr2', 'pl_orbeccenlim', 'ttv_flag', 'pl_ratror', 'pl_ratrorerr1', 'pl_ratrorerr2', 'pl_ratrorlim', 'pl_rvamp', 'pl_rvamperr1', 'pl_rvamperr2', 'pl_rvamplim', 'st_refname', 'st_spectype', 'st_teff', 'st_tefferr1', 'st_tefferr2', 'st_tefflim', 'st_rad', 'st_raderr1', 'st_raderr2', 'st_radlim', 'st_mass', 'st_masserr1', 'st_masserr2', 'st_masslim', 'st_met', 'st_meterr1', 'st_meterr2', 'st_metlim', 'st_metratio', 'st_lum', 'st_lumerr1', 'st_lumerr2', 'st_lumlim', 'st_logg', 'st_loggerr1', 'st_loggerr2', 'st_logglim', 'st_age', 'st_ageerr1', 'st_ageerr2', 'st_agelim', 'st_dens', 'st_denserr1', 'st_denserr2', 'st_denslim', 'sy_refname', 'rastr', 'ra', 'decstr', 'dec', 'sy_dist', 'sy_disterr1', 'sy_disterr2', 'sy_plx', 'sy_plxerr1', 'sy_plxerr2', 'sy_vmag', 'sy_vmagerr1', 'sy_vmagerr2', 'sy_kmag', 'sy_kmagerr1', 'sy_kmagerr2', 'sy_gaiamag', 'sy_gaiamagerr1', 'sy_gaiamagerr2', 'rowupdate', 'pl_pubdate', 'releasedate'])\n",
      "total number of queried objects = 4307\n"
     ]
    }
   ],
   "source": [
    "def check_lengths(data):\n",
    "    keys = data.keys()\n",
    "    k0   = list(keys)[0]\n",
    "    L0   = len(data[k0])\n",
    "    \n",
    "    for k in keys:\n",
    "        if len(data[k]) != L0:\n",
    "            raise ValueError('inconsistent array lengths')\n",
    "            \n",
    "    return None\n",
    "\n",
    "\n",
    "def convert_to_arrays(data):\n",
    "    keys = data.keys()\n",
    "    dnew = {}\n",
    "    \n",
    "    for k in keys:\n",
    "        dnew[k] = np.asarray(data[k])\n",
    "        \n",
    "    return dnew       \n",
    "\n",
    "\n",
    "\n",
    "# grab a reference key\n",
    "k0 = list(data.keys())[0]\n",
    "\n",
    "\n",
    "# convert to arrays\n",
    "data = convert_to_arrays(data)\n",
    "\n",
    "\n",
    "# only use default (single reference) values\n",
    "print(data.keys())\n",
    "keep = data['default_flag']  == '1'\n",
    "\n",
    "for k in data.keys():\n",
    "    data[k] = data[k][keep]\n",
    "\n",
    "\n",
    "print('total number of queried objects =', len(data[k0]))\n",
    "\n",
    "\n",
    "check_lengths(data)"
   ]
  },
  {
   "cell_type": "markdown",
   "metadata": {},
   "source": [
    "# Remove unwanted objects"
   ]
  },
  {
   "cell_type": "code",
   "execution_count": 6,
   "metadata": {},
   "outputs": [
    {
     "name": "stdout",
     "output_type": "stream",
     "text": [
      "removed 190 objects due to non-relevant DETECTION METHOD\n",
      "removed 10 objects flagged as CONTROVERSIAL\n",
      "\n",
      "after cuts, 4107 objects remain\n",
      "\n",
      "3273 TRANSITING planets\n",
      "813 RADIAL VELOCITY planets\n",
      "21 TTV planets\n"
     ]
    }
   ],
   "source": [
    "# filter detection methods\n",
    "keep = (data[\"discoverymethod\"] == \"Transit\") + (data[\"discoverymethod\"] == \"Radial Velocity\") + \\\n",
    "       (data[\"discoverymethod\"] == \"Transit Timing Variations\")\n",
    "\n",
    "for k in data.keys():\n",
    "    data[k] = data[k][keep]\n",
    "\n",
    "print(\"removed {0} objects due to non-relevant DETECTION METHOD\".format(np.sum(~keep)))\n",
    "\n",
    "\n",
    "# controversial flag\n",
    "bad = data[\"pl_controv_flag\"] == \"1\"\n",
    "\n",
    "for k in data.keys():\n",
    "    data[k] = data[k][~bad]\n",
    "\n",
    "print(\"removed {0} objects flagged as CONTROVERSIAL\".format(np.sum(bad)))\n",
    "\n",
    "\n",
    "\n",
    "print(\"\\nafter cuts, {0} objects remain\\n\".format(len(data[k0])))\n",
    "\n",
    "print(\"{0} TRANSITING planets\".format(np.sum(data[\"discoverymethod\"] == \"Transit\")))\n",
    "print(\"{0} RADIAL VELOCITY planets\".format(np.sum(data[\"discoverymethod\"] == \"Radial Velocity\")))\n",
    "print(\"{0} TTV planets\".format(np.sum(data[\"discoverymethod\"] == \"Transit Timing Variations\")))"
   ]
  },
  {
   "cell_type": "markdown",
   "metadata": {},
   "source": [
    "# Check stellar parameter consistency for each system"
   ]
  },
  {
   "cell_type": "code",
   "execution_count": 7,
   "metadata": {},
   "outputs": [],
   "source": [
    "npl = np.array(data[\"sy_pnum\"], dtype=\"int\")\n",
    "\n",
    "starname = np.array(data[\"hostname\"])\n",
    "detmet = np.array(data[\"discoverymethod\"])\n",
    "\n",
    "Mstar = np.array(data[\"st_mass\"])\n",
    "Mstar_err1 = np.array(data[\"st_masserr1\"])\n",
    "Mstar_err2 = np.array(data[\"st_masserr2\"])\n",
    "\n",
    "Rstar = np.array(data[\"st_rad\"])\n",
    "Rstar_err1 = np.array(data[\"st_raderr1\"])\n",
    "Rstar_err2 = np.array(data[\"st_raderr2\"])\n",
    "\n",
    "uniquesys = np.unique(starname)"
   ]
  },
  {
   "cell_type": "code",
   "execution_count": 8,
   "metadata": {
    "scrolled": false
   },
   "outputs": [],
   "source": [
    "# some planets have no stellar mass/radius given; others have a value for only a single planet in a system\n",
    "# for multis where one planet has a stellar mass/radius value, broadcast this to all planets in the system\n",
    "for i, s in enumerate(uniquesys):\n",
    "    use = starname == s\n",
    "    \n",
    "    # first fix stellar masses\n",
    "    if np.any(Mstar[use] == \"\"):\n",
    "        unique_ms = np.unique(Mstar[use])\n",
    "        unique_ms_err1 = np.unique(Mstar_err1[use])\n",
    "        unique_ms_err2 = np.unique(Mstar_err2[use])\n",
    "        \n",
    "        if len(unique_ms) == 2:\n",
    "            Mstar[use] = str(unique_ms[unique_ms != ''].item())\n",
    "            \n",
    "            try:\n",
    "                Mstar_err1[use] = str(unique_ms_err1[unique_ms_err1 != ''].item())\n",
    "                Mstar_err2[use] = str(unique_ms_err2[unique_ms_err2 != ''].item())\n",
    "            except:\n",
    "                Mstar_err1[use] = ''\n",
    "                Mstar_err2[use] = ''\n",
    "    \n",
    "    # then fix stellar radii\n",
    "    if np.any(Rstar[use] == \"\"):\n",
    "        unique_rs = np.unique(Rstar[use])\n",
    "        unique_rs_err1 = np.unique(Rstar_err1[use])\n",
    "        unique_rs_err2 = np.unique(Rstar_err2[use])\n",
    "        \n",
    "\n",
    "        if len(unique_rs) == 2:\n",
    "            Rstar[use] = str(unique_rs[unique_rs != ''].item())\n",
    "            try:\n",
    "                Rstar_err1[use] = str(unique_rs_err1[unique_rs_err1 != ''].item())\n",
    "                Rstar_err2[use] = str(unique_rs_err2[unique_rs_err2 != ''].item())\n",
    "            except:\n",
    "                Rstar_err1[use] = ''\n",
    "                Rstar_err2[use] = ''\n",
    "            \n",
    "\n",
    "data[\"st_mass\"] = np.copy(Mstar)\n",
    "data[\"st_masserr1\"] = np.copy(Mstar_err1)\n",
    "data[\"st_masserr2\"] = np.copy(Mstar_err2)\n",
    "\n",
    "data[\"st_rad\"] = np.copy(Rstar)\n",
    "data[\"st_raderr1\"] = np.copy(Rstar_err1)\n",
    "data[\"st_raderr2\"] = np.copy(Rstar_err2)"
   ]
  },
  {
   "cell_type": "code",
   "execution_count": 9,
   "metadata": {},
   "outputs": [
    {
     "name": "stdout",
     "output_type": "stream",
     "text": [
      "\n",
      "\n",
      "Missing MASS\n",
      "['GJ 163']\n",
      "\n",
      "\n",
      "Missing RADIUS\n",
      "['GJ 163' 'GJ 180' 'GJ 433' 'GJ 667 C' 'HD 133131 A' 'HD 133131 B'\n",
      " 'HD 136352' 'HD 141399' 'HD 160691' 'HD 20781' 'HD 20794' 'HD 27894'\n",
      " 'HD 31527' 'HD 37124' 'HD 40307' 'HD 69830' 'tau Cet']\n"
     ]
    }
   ],
   "source": [
    "RV = data[\"discoverymethod\"] == \"Radial Velocity\"\n",
    "\n",
    "npl = np.array(data['sy_pnum'][RV], dtype=\"int\")\n",
    "Mstar = np.array(data['st_mass'][RV])\n",
    "Rstar = np.array(data['st_rad'][RV])\n",
    "starname = np.array(data['hostname'][RV])\n",
    "planetname = np.array(data['pl_name'][RV])\n",
    "\n",
    "print(\"\\n\\nMissing MASS\")\n",
    "print(np.unique(starname[(Mstar == '')*(npl > 2)]))\n",
    "\n",
    "print(\"\\n\\nMissing RADIUS\")\n",
    "print(np.unique(starname[(Rstar == '')*(npl > 2)]))"
   ]
  },
  {
   "cell_type": "markdown",
   "metadata": {},
   "source": [
    "# Manually add in missing stellar radii"
   ]
  },
  {
   "cell_type": "code",
   "execution_count": 10,
   "metadata": {},
   "outputs": [],
   "source": [
    "modified_stars = ['HD 40307', 'HD 31527', 'HD 20781', 'GJ 876', \\\n",
    "                  'GJ 163', 'ups And', 'HD 136352', '55 Cnc', 'tau Cet', \\\n",
    "                  'HD 69830', 'HD 40307', 'HD 37124', 'HD 20794', \\\n",
    "                 'HD 160691', 'HD 141399', 'HD 136352', 'GJ 180', 'GJ 9827', \\\n",
    "                  'TRAPPIST-1', 'GJ 433', 'HD 27894', 'HD 181433', \\\n",
    "                 'HD 37124']\n",
    "modified_Rstar = [0.72, 1.077, 0.86, 0.35, 0.41, 1.48, 1.012, 0.98, \\\n",
    "                  0.793, 0.91, 0.71, 1.004, 0.9, 1.36, 1.46, 1.02, 0.423, \\\n",
    "                  0.579, 0.1192, 0.46, 0.85, 0.81, 0.93]\n",
    "modified_Rerr1 = [0.060, 0.046, 0.06, 0.35*0.2814, 0.01, 0.087, 0.018,\\\n",
    "                  0.016, 0.004, 0.019, 0.01, 0.046, 0.03, 0.06, 0.15, \\\n",
    "                 0.02, 0.005, 0.018, 0.0013, 0.05, 0.05, 0.07, 0.04]\n",
    "modified_Rerr2 = [0.048, 0.042, 0.05, 0.35*0.2814, 0.01, 0.087, 0.018,\\\n",
    "                  0.016, 0.004, 0.019, 0.01, 0.05, 0.03, 0.06, 0.15, \\\n",
    "                 0.02, 0.005, 0.018, 0.0013, 0.05, 0.05, 0.05, 0.04]"
   ]
  },
  {
   "cell_type": "code",
   "execution_count": 11,
   "metadata": {},
   "outputs": [],
   "source": [
    "for i in range(len(modified_stars)):\n",
    "    data['st_rad'][data['hostname']==modified_stars[i]] = \\\n",
    "    [modified_Rstar[i]]*len(data['hostname'][data['hostname']== \\\n",
    "                                             modified_stars[i]])\n",
    "    data['st_raderr1'][data['hostname']==modified_stars[i]] = \\\n",
    "    [modified_Rerr1[i]]*len(data['hostname'][data['hostname']== \\\n",
    "                                             modified_stars[i]])\n",
    "    data['st_raderr2'][data['hostname']==modified_stars[i]] = \\\n",
    "    [modified_Rerr2[i]]*len(data['hostname'][data['hostname']== \\\n",
    "                                             modified_stars[i]])"
   ]
  },
  {
   "cell_type": "markdown",
   "metadata": {},
   "source": [
    "# Manually add in missing stellar mass"
   ]
  },
  {
   "cell_type": "code",
   "execution_count": 12,
   "metadata": {},
   "outputs": [],
   "source": [
    "modified_stars = ['HD 31527', 'HD 20781', 'Wolf 1061', 'GJ 3293', \\\n",
    "                 'GJ 3138', 'ups And', 'HD 20794', 'HD 160691', \\\n",
    "                 'HD 136352', 'GJ 180', '55 Cnc', 'GJ 163', 'HD 27894', \\\n",
    "                 'GJ 433', 'HD 181433', 'HD 37124']\n",
    "modified_Mstar = [1.07, 0.9, 0.25, 0.45, 0.62, 1.150, 0.813, 1.10, \\\n",
    "                  0.906, 0.432, 1.015, 0.40, 0.81, 0.46, 0.81, 0.99]\n",
    "modified_Merr1 = [0.15, 0.12, 0.25*0.4649, 0.02, 0.08, 0.165, 0.018, \\\n",
    "                 0.02, 0.055, 0.005, 0.051, 0.02, 0.11, 0.05, 0.09, 0.14]\n",
    "modified_Merr2 = [0.13, 0.1, 0.25*0.4649, 0.02, 0.08, 0.144, 0.012, \\\n",
    "                 0.02, 0.047, 0.005, 0.051, 0.02, 0.08, 0.05, 0.10, 0.10]"
   ]
  },
  {
   "cell_type": "code",
   "execution_count": 13,
   "metadata": {},
   "outputs": [],
   "source": [
    "for i in range(len(modified_stars)):\n",
    "    data['st_mass'][data['hostname']==modified_stars[i]] = \\\n",
    "    [modified_Mstar[i]]*len(data['hostname'][data['hostname']== \\\n",
    "                                             modified_stars[i]])\n",
    "    data['st_masserr1'][data['hostname']==modified_stars[i]] = \\\n",
    "    [modified_Merr1[i]]*len(data['hostname'][data['hostname']== \\\n",
    "                                             modified_stars[i]])\n",
    "    data['st_masserr2'][data['hostname']==modified_stars[i]] = \\\n",
    "    [modified_Merr2[i]]*len(data['hostname'][data['hostname']== \\\n",
    "                                             modified_stars[i]])"
   ]
  },
  {
   "cell_type": "markdown",
   "metadata": {},
   "source": [
    "# Missing RV semi-amplitudes"
   ]
  },
  {
   "cell_type": "code",
   "execution_count": 14,
   "metadata": {},
   "outputs": [],
   "source": [
    "data['pl_rvamp'][data['pl_name']=='55 Cnc e'] = [5.07]\n",
    "data['pl_rvamperr1'][data['pl_name']=='55 Cnc e'] = [0.53]\n",
    "data['pl_rvamperr2'][data['pl_name']=='55 Cnc e'] = [-0.53]"
   ]
  },
  {
   "cell_type": "markdown",
   "metadata": {},
   "source": [
    "# Missing planetary mass"
   ]
  },
  {
   "cell_type": "code",
   "execution_count": 15,
   "metadata": {},
   "outputs": [],
   "source": [
    "modified_planets = ['HD 160691 b', 'HD 160691 c', 'HD 160691 d', \\\n",
    "                   'HD 160691 e', 'HD 3167 d', 'HD 69830 b', 'HD 69830 c', \\\n",
    "                   'HD 69830 d', 'HD 181433 b', 'HD 181433 c', 'HD 181433 d']\n",
    "modified_mp = [1.676*MJUPITER/MEARTH, 0.03321*MJUPITER/MEARTH, \\\n",
    "              0.5219*MJUPITER/MEARTH, 1.814*MJUPITER/MEARTH, \\\n",
    "              6.90, 10.2, 11.8, 18.1, 0.0223*MJUPITER/MEARTH, \\\n",
    "              0.674*MJUPITER/MEARTH, 0.612*MJUPITER/MEARTH]\n",
    "modified_mperr1 = [0, 0, 0, 0, 0.71, 0, 0, 0, 0.0003*MJUPITER/MEARTH, \\\n",
    "                  0.003*MJUPITER/MEARTH, 0.004*MJUPITER/MEARTH]\n",
    "modified_mperr2 = [0, 0, 0, 0, 0.71, 0, 0, 0, 0.0003*MJUPITER/MEARTH, \\\n",
    "                  0.003*MJUPITER/MEARTH, 0.004*MJUPITER/MEARTH]"
   ]
  },
  {
   "cell_type": "code",
   "execution_count": 16,
   "metadata": {},
   "outputs": [],
   "source": [
    "for i in range(len(modified_planets)):\n",
    "    data['pl_bmasse'][data['pl_name']==modified_planets[i]] = \\\n",
    "    [modified_mp[i]]*len(data['pl_name'][data['pl_name']== \\\n",
    "                                             modified_planets[i]])\n",
    "    data['pl_bmasseerr1'][data['pl_name']==modified_planets[i]] = \\\n",
    "    [modified_mperr1[i]]*len(data['pl_name'][data['pl_name']== \\\n",
    "                                             modified_planets[i]])\n",
    "    data['pl_bmasseerr2'][data['pl_name']==modified_planets[i]] = \\\n",
    "    [modified_mperr2[i]]*len(data['pl_name'][data['pl_name']== \\\n",
    "                                             modified_planets[i]])"
   ]
  },
  {
   "cell_type": "markdown",
   "metadata": {},
   "source": [
    "# Double-check missing data"
   ]
  },
  {
   "cell_type": "code",
   "execution_count": 17,
   "metadata": {},
   "outputs": [
    {
     "name": "stdout",
     "output_type": "stream",
     "text": [
      "\n",
      "\n",
      "Missing MASS\n",
      "[]\n",
      "\n",
      "\n",
      "Missing RADIUS\n",
      "['GJ 667 C' 'HD 133131 A' 'HD 133131 B']\n"
     ]
    }
   ],
   "source": [
    "# Some RV systems still have missing radius\n",
    "# This does not matter because these systems are not included in the\n",
    "# final RV data.  After all the cuts to the data, there are less than \n",
    "# 3 exoplanets within each of these systems.\n",
    "\n",
    "RV = data[\"discoverymethod\"] == \"Radial Velocity\"\n",
    "\n",
    "npl = np.array(data['sy_pnum'][RV], dtype=\"int\")\n",
    "Mstar = np.array(data['st_mass'][RV])\n",
    "Rstar = np.array(data['st_rad'][RV])\n",
    "starname = np.array(data['hostname'][RV])\n",
    "planetname = np.array(data['pl_name'][RV])\n",
    "\n",
    "print(\"\\n\\nMissing MASS\")\n",
    "print(np.unique(starname[(Mstar == '')*(npl > 2)]))\n",
    "\n",
    "print(\"\\n\\nMissing RADIUS\")\n",
    "print(np.unique(starname[(Rstar == '')*(npl > 2)]))"
   ]
  },
  {
   "cell_type": "markdown",
   "metadata": {},
   "source": [
    "# Read in Kepler names"
   ]
  },
  {
   "cell_type": "code",
   "execution_count": 18,
   "metadata": {},
   "outputs": [],
   "source": [
    "kepnamepath = MAINPATH + \"catalogues/kepler_names.txt\"\n",
    "\n",
    "# read in the stellar output parameters\n",
    "with open(kepnamepath, \"r\") as infile:\n",
    "    raw_kepnames = []\n",
    "    \n",
    "    for i, line in enumerate(infile):\n",
    "        raw_kepnames.append(line.split(\",\"))\n",
    "            \n",
    "raw_kepnames = np.array(raw_kepnames)\n",
    "\n",
    "# strip off trailing \\newline commands\n",
    "for i in range(len(raw_kepnames)):\n",
    "    raw_kepnames[i,-1] = raw_kepnames[i,-1].strip(\"\\n\").strip(\"\\ \")"
   ]
  },
  {
   "cell_type": "code",
   "execution_count": 19,
   "metadata": {},
   "outputs": [],
   "source": [
    "kepnames = {}\n",
    "\n",
    "for i, k in enumerate(raw_kepnames[0]):\n",
    "    kepnames[k] = raw_kepnames[1:,i]"
   ]
  },
  {
   "cell_type": "markdown",
   "metadata": {},
   "source": [
    "# Read in Gaia DR2"
   ]
  },
  {
   "cell_type": "code",
   "execution_count": 20,
   "metadata": {},
   "outputs": [],
   "source": [
    "gaiapath = MAINPATH + \"catalogues/berger_2020_gaia_kepler_tab2_output.txt\"\n",
    "\n",
    "# read in the stellar output parameters\n",
    "with open(gaiapath, \"r\") as infile:\n",
    "    raw_gaia_data = []\n",
    "    \n",
    "    for i, line in enumerate(infile):\n",
    "        raw_gaia_data.append(line.split(\"&\"))\n",
    "            \n",
    "raw_gaia_data = np.array(raw_gaia_data)\n",
    "\n",
    "\n",
    "# strip off trailing \\newline commands\n",
    "for i in range(len(raw_gaia_data)):\n",
    "    raw_gaia_data[i,-1] = raw_gaia_data[i,-1].strip(\"\\n\").strip(\"\\ \")\n",
    "    \n",
    "    \n",
    "gaia_stars = {}\n",
    "\n",
    "for i, k in enumerate(raw_gaia_data[0]):\n",
    "    gaia_stars[k] = raw_gaia_data[1:,i]"
   ]
  },
  {
   "cell_type": "code",
   "execution_count": 21,
   "metadata": {},
   "outputs": [],
   "source": [
    "gaiapath = MAINPATH + \"catalogues/berger_2020_gaia_kepler_planets.txt\"\n",
    "\n",
    "gaia_planets = {}\n",
    "\n",
    "gaia_planets[\"KIC\"] = np.loadtxt(gaiapath, skiprows=32, dtype=\"str\", usecols=0)\n",
    "gaia_planets[\"radius\"] = np.loadtxt(gaiapath, skiprows=32, dtype=\"str\", usecols=3)\n",
    "gaia_planets[\"radius_err1\"] = np.loadtxt(gaiapath, skiprows=32, dtype=\"str\", usecols=4)\n",
    "gaia_planets[\"radius_err2\"] = np.loadtxt(gaiapath, skiprows=32, dtype=\"str\", usecols=5)\n",
    "gaia_planets[\"sma\"] = np.loadtxt(gaiapath, skiprows=32, dtype=\"str\", usecols=6)\n",
    "gaia_planets[\"sma_err1\"] = np.loadtxt(gaiapath, skiprows=32, dtype=\"str\", usecols=7)\n",
    "gaia_planets[\"sma_err2\"] = np.loadtxt(gaiapath, skiprows=32, dtype=\"str\", usecols=8)"
   ]
  },
  {
   "cell_type": "markdown",
   "metadata": {},
   "source": [
    "# Cross-match Kepler vs. Gaia and combine"
   ]
  },
  {
   "cell_type": "code",
   "execution_count": 22,
   "metadata": {},
   "outputs": [],
   "source": [
    "gaia_kic = np.asarray(gaia_stars[\"KIC\"], dtype=\"int\")\n",
    "\n",
    "for i in range(len(data[k0])):\n",
    "    hostname = data[\"hostname\"][i]\n",
    "    \n",
    "    if hostname[:3] == \"Kep\":\n",
    "        \n",
    "        for j, kname in enumerate(kepnames[\"kepler_name\"]):\n",
    "            if kname[:-2] == hostname:\n",
    "                kic = int(kepnames[\"kepid\"][j])\n",
    "        \n",
    "        match = gaia_kic == kic\n",
    "        \n",
    "        if np.sum(match) == 1:\n",
    "            data[\"st_refname\"][i] = \"Berger et al. 2020\"\n",
    "            \n",
    "            data[\"st_teff\"][i] = gaia_stars[\"iso_teff\"][match][0]\n",
    "            data[\"st_tefferr1\"][i] = gaia_stars[\"iso_teff_err1\"][match][0]\n",
    "            data[\"st_tefferr1\"][i] = gaia_stars[\"iso_teff_err2\"][match][0]\n",
    "            data[\"st_tefflim\"][i]  = \"0\"\n",
    "            \n",
    "            data[\"st_rad\"][i] = gaia_stars[\"iso_rad\"][match][0]\n",
    "            data[\"st_raderr1\"][i] = gaia_stars[\"iso_rad_err1\"][match][0]\n",
    "            data[\"st_raderr1\"][i] = gaia_stars[\"iso_rad_err2\"][match][0]\n",
    "            data[\"st_radlim\"][i]  = \"0\"\n",
    "            \n",
    "            data[\"st_mass\"][i] = gaia_stars[\"iso_mass\"][match][0]\n",
    "            data[\"st_masserr1\"][i] = gaia_stars[\"iso_mass_err1\"][match][0]\n",
    "            data[\"st_masserr1\"][i] = gaia_stars[\"iso_mass_err2\"][match][0]\n",
    "            data[\"st_masslim\"][i]  = \"0\"\n",
    "            \n",
    "            data[\"st_met\"][i] = gaia_stars[\"iso_feh\"][match][0]\n",
    "            data[\"st_meterr1\"][i] = gaia_stars[\"iso_feh_err1\"][match][0]\n",
    "            data[\"st_meterr1\"][i] = gaia_stars[\"iso_feh_err2\"][match][0]\n",
    "            data[\"st_metlim\"][i]  = \"0\"\n",
    "            data[\"st_metratio\"][i]  = \"[Fe/H]\"\n",
    "            \n",
    "            data[\"st_logg\"][i] = gaia_stars[\"iso_logg\"][match][0]\n",
    "            data[\"st_loggerr1\"][i] = gaia_stars[\"iso_logg_err1\"][match][0]\n",
    "            data[\"st_loggerr1\"][i] = gaia_stars[\"iso_logg_err2\"][match][0]\n",
    "            data[\"st_logglim\"][i]  = \"0\""
   ]
  },
  {
   "cell_type": "code",
   "execution_count": 23,
   "metadata": {},
   "outputs": [],
   "source": [
    "gaia_kic = np.asarray(gaia_planets[\"KIC\"], dtype=\"int\")\n",
    "\n",
    "count = 0\n",
    "\n",
    "for i in range(len(data[k0])):\n",
    "    hostname = data[\"hostname\"][i]\n",
    "    \n",
    "    if hostname[:3] == \"Kep\":\n",
    "        \n",
    "        for j, kname in enumerate(kepnames[\"kepler_name\"]):\n",
    "            if kname[:-2] == hostname:\n",
    "                kic = int(kepnames[\"kepid\"][j])\n",
    "        \n",
    "        match = gaia_kic == kic\n",
    "        \n",
    "        if np.sum(match) == 1:\n",
    "            data[\"pl_rade\"][i] = gaia_planets[\"radius\"][match][0]\n",
    "            data[\"pl_radeerr1\"][i] = gaia_planets[\"radius_err1\"][match][0]\n",
    "            data[\"pl_radeerr1\"][i] = gaia_planets[\"radius_err2\"][match][0]\n",
    "            data[\"pl_radelim\"][i]  = \"0\"\n",
    "            \n",
    "            data[\"pl_radj\"][i] = str(np.round(float(gaia_planets[\"radius\"][match][0])*RERJ,3))\n",
    "            data[\"pl_radjerr1\"][i] = str(np.round(float(gaia_planets[\"radius_err1\"][match][0])*RERJ,3))\n",
    "            data[\"pl_radjerr1\"][i] = str(np.round(float(gaia_planets[\"radius_err2\"][match][0])*RERJ,3))\n",
    "            data[\"pl_radjlim\"][i]  = \"0\""
   ]
  },
  {
   "cell_type": "code",
   "execution_count": 24,
   "metadata": {},
   "outputs": [
    {
     "name": "stdout",
     "output_type": "stream",
     "text": [
      "Here are the mixed systems:\n",
      "['CoRoT-20' 'CoRoT-20' 'CoRoT-7' 'CoRoT-7' 'GJ 1132' 'GJ 1132' 'GJ 3473'\n",
      " 'GJ 3473' 'GJ 357' 'GJ 357' 'GJ 357' 'HAT-P-11' 'HAT-P-11' 'HAT-P-13'\n",
      " 'HAT-P-13' 'HAT-P-17' 'HAT-P-17' 'HAT-P-44' 'HAT-P-44' 'HATS-59'\n",
      " 'HATS-59' 'HD 213885' 'HD 213885' 'HD 3167' 'HD 3167' 'HD 3167'\n",
      " 'HD 39091' 'HD 86226' 'HD 86226' 'KELT-6' 'KELT-6' 'KOI-12' 'KOI-142'\n",
      " 'KOI-142' 'Kepler-122' 'Kepler-122' 'Kepler-122' 'Kepler-122'\n",
      " 'Kepler-122' 'Kepler-160' 'Kepler-160' 'Kepler-160' 'Kepler-19'\n",
      " 'Kepler-19' 'Kepler-19' 'Kepler-20' 'Kepler-20' 'Kepler-20' 'Kepler-20'\n",
      " 'Kepler-20' 'Kepler-20' 'Kepler-25' 'Kepler-25' 'Kepler-25' 'Kepler-338'\n",
      " 'Kepler-338' 'Kepler-338' 'Kepler-338' 'Kepler-37' 'Kepler-37'\n",
      " 'Kepler-37' 'Kepler-37' 'Kepler-407' 'Kepler-407' 'Kepler-411'\n",
      " 'Kepler-411' 'Kepler-411' 'Kepler-411' 'Kepler-419' 'Kepler-419'\n",
      " 'Kepler-424' 'Kepler-424' 'Kepler-432' 'Kepler-432' 'KOI-12' 'Kepler-454'\n",
      " 'Kepler-454' 'Kepler-46' 'Kepler-46' 'Kepler-46' 'Kepler-48' 'Kepler-48'\n",
      " 'Kepler-48' 'Kepler-48' 'Kepler-539' 'Kepler-539' 'Kepler-56' 'Kepler-56'\n",
      " 'Kepler-56' 'Kepler-65' 'Kepler-65' 'Kepler-65' 'Kepler-65' 'Kepler-68'\n",
      " 'Kepler-68' 'Kepler-68' 'Kepler-82' 'Kepler-82' 'Kepler-82' 'Kepler-82'\n",
      " 'Kepler-82' 'KOI-142' 'Kepler-93' 'Kepler-93' 'Kepler-94' 'Kepler-94'\n",
      " 'Kepler-97' 'Kepler-97' 'WASP-126' 'WASP-126' 'WASP-148' 'WASP-148'\n",
      " 'WASP-18' 'WASP-18' 'WASP-41' 'WASP-41' 'WASP-47' 'WASP-47' 'WASP-47'\n",
      " 'WASP-47' 'WASP-53' 'WASP-53' 'WASP-8' 'WASP-8' 'HD 39091']\n"
     ]
    }
   ],
   "source": [
    "def check_uniformity(detection_methods):\n",
    "    default_disc = detection_methods[0]\n",
    "    status = True\n",
    "    for i in range(len(detection_methods)):\n",
    "        if detection_methods[i] != default_disc:\n",
    "            status = False\n",
    "    return status\n",
    "\n",
    "data['system_disc_method'] = []\n",
    "\n",
    "for i in range(len(data['hostname'])):\n",
    "    if check_uniformity(data['discoverymethod'][data['hostname']==data['hostname'][i]]) == False:\n",
    "        data['system_disc_method'].append('Mixed')\n",
    "    else:\n",
    "        data['system_disc_method'].append(data['discoverymethod'][i])\n",
    "data['system_disc_method'] = np.array(data['system_disc_method'])\n",
    "\n",
    "print('Here are the mixed systems:')\n",
    "print(data['hostname'][data['system_disc_method']=='Mixed'])"
   ]
  },
  {
   "cell_type": "markdown",
   "metadata": {},
   "source": [
    "# Write out catalogue"
   ]
  },
  {
   "cell_type": "code",
   "execution_count": 25,
   "metadata": {},
   "outputs": [
    {
     "name": "stdout",
     "output_type": "stream",
     "text": [
      "Writing complete!\n"
     ]
    }
   ],
   "source": [
    "WRITENEW = True\n",
    "if WRITENEW:\n",
    "    filepath = MAINPATH + 'catalogues/oviraptor_crossmatch_catalog_v2.csv'\n",
    "\n",
    "    with open(filepath, \"w\") as outfile:\n",
    "        writer = csv.writer(outfile)\n",
    "        writer.writerow(data.keys())\n",
    "        writer.writerows(zip(*data.values()))\n",
    "\n",
    "print(\"Writing complete!\")"
   ]
  },
  {
   "cell_type": "code",
   "execution_count": null,
   "metadata": {},
   "outputs": [],
   "source": []
  }
 ],
 "metadata": {
  "kernelspec": {
   "display_name": "Python 3",
   "language": "python",
   "name": "python3"
  },
  "language_info": {
   "codemirror_mode": {
    "name": "ipython",
    "version": 3
   },
   "file_extension": ".py",
   "mimetype": "text/x-python",
   "name": "python",
   "nbconvert_exporter": "python",
   "pygments_lexer": "ipython3",
   "version": "3.8.5"
  }
 },
 "nbformat": 4,
 "nbformat_minor": 2
}
