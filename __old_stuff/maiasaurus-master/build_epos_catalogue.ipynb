{
 "cells": [
  {
   "cell_type": "code",
   "execution_count": 1,
   "metadata": {},
   "outputs": [],
   "source": [
    "import numpy as np\n",
    "import matplotlib.pyplot as plt\n",
    "import sys\n",
    "import csv\n",
    "\n",
    "MAINPATH = '/Users/research/projects/maiasaurus/'"
   ]
  },
  {
   "cell_type": "markdown",
   "metadata": {},
   "source": [
    "# Build the observed catalogue"
   ]
  },
  {
   "cell_type": "code",
   "execution_count": 2,
   "metadata": {},
   "outputs": [],
   "source": [
    "# READ IN OBSERVED PLANETS\n",
    "obs_file = MAINPATH + 'catalogues/epos_transiting_planets_raw_output.csv'\n",
    "\n",
    "obs_data = []\n",
    "with open(obs_file) as infile:\n",
    "    reader = csv.reader(infile)\n",
    "    \n",
    "    for row in reader:\n",
    "        obs_data.append(row)\n",
    "        \n",
    "KEYS = obs_data[0]\n",
    "VALUES = obs_data[1:]\n",
    "\n",
    "def getkey(keyname,keys=KEYS,values=VALUES, convert_to_float=True):\n",
    "    '''\n",
    "    keyname = (string) of column definition\n",
    "    '''\n",
    "    kid = keys.index(keyname)\n",
    "    \n",
    "    dummy = []\n",
    "    for row in values:\n",
    "        dummy.append(row[kid])\n",
    "        \n",
    "    if convert_to_float:\n",
    "        return np.array(dummy, dtype='float')\n",
    "    else:   \n",
    "        return np.array(dummy)"
   ]
  },
  {
   "cell_type": "code",
   "execution_count": 3,
   "metadata": {},
   "outputs": [],
   "source": [
    "obs = {}\n",
    "\n",
    "obs['star_id'] = getkey('# starID')\n",
    "obs['period']  = getkey('Period_days')\n",
    "obs['radius']  = getkey('Radius_earth')\n",
    "obs['tdur']    = getkey('Duration_hours')/24\n",
    "\n",
    "obs['rhostar'] = np.ones_like(obs['period'])\n",
    "obs['rstar']   = np.ones_like(obs['period'])\n",
    "obs['mstar']   = np.ones_like(obs['period'])"
   ]
  },
  {
   "cell_type": "code",
   "execution_count": 4,
   "metadata": {},
   "outputs": [
    {
     "data": {
      "image/png": "[encoded data removed]",
      "text/plain": [
       "<Figure size 432x288 with 1 Axes>"
      ]
     },
     "metadata": {
      "needs_background": "light"
     },
     "output_type": "display_data"
    }
   ],
   "source": [
    "npl = np.zeros_like(obs['star_id'], dtype='int')\n",
    "\n",
    "for i, sid in enumerate(obs['star_id']):\n",
    "    npl[i] = np.sum(obs['star_id'] == sid)\n",
    "\n",
    "obs['npl'] = npl\n",
    "    \n",
    "plt.figure()\n",
    "plt.hist(npl, bins=np.arange(1,npl.max()+1), color='cornflowerblue', edgecolor='k')\n",
    "plt.show()"
   ]
  },
  {
   "cell_type": "code",
   "execution_count": 5,
   "metadata": {},
   "outputs": [
    {
     "name": "stdout",
     "output_type": "stream",
     "text": [
      "3176 planets in OBSERVED catalogue\n"
     ]
    }
   ],
   "source": [
    "print('%d planets in OBSERVED catalogue' %len(obs['star_id']))\n",
    "\n",
    "WRITENEW = True\n",
    "if WRITENEW:\n",
    "    filepath = MAINPATH + 'catalogues/epos_observed_planets.csv'\n",
    "\n",
    "    with open(filepath, \"w\") as outfile:\n",
    "        writer = csv.writer(outfile)\n",
    "        writer.writerow(obs.keys())\n",
    "        writer.writerows(zip(*obs.values()))"
   ]
  },
  {
   "cell_type": "markdown",
   "metadata": {},
   "source": [
    "# Build the underlying physical catalogue"
   ]
  },
  {
   "cell_type": "code",
   "execution_count": 6,
   "metadata": {},
   "outputs": [],
   "source": [
    "# READ IN PHYSICAL PLANETS\n",
    "phys_file = MAINPATH + 'catalogues/epos_transiting_systems_raw_output.csv'\n",
    "\n",
    "phys_data = []\n",
    "with open(phys_file) as infile:\n",
    "    reader = csv.reader(infile)\n",
    "    \n",
    "    for row in reader:\n",
    "        phys_data.append(row)\n",
    "        \n",
    "KEYS = phys_data[0]\n",
    "VALUES = phys_data[1:]\n",
    "\n",
    "def getkey(keyname,keys=KEYS,values=VALUES, convert_to_float=True):\n",
    "    '''\n",
    "    keyname = (string) of column definition\n",
    "    '''\n",
    "    kid = keys.index(keyname)\n",
    "    \n",
    "    dummy = []\n",
    "    for row in values:\n",
    "        dummy.append(row[kid])\n",
    "        \n",
    "    if convert_to_float:\n",
    "        return np.array(dummy, dtype='float')\n",
    "    else:   \n",
    "        return np.array(dummy)"
   ]
  },
  {
   "cell_type": "code",
   "execution_count": 7,
   "metadata": {},
   "outputs": [],
   "source": [
    "phys = {}\n",
    "\n",
    "phys['star_id'] = getkey('# starID')\n",
    "phys['period']  = getkey('Period_days')\n",
    "phys['radius']  = getkey('Radius_earth')\n",
    "phys['tdur']    = getkey('Duration_hours')/24\n",
    "\n",
    "phys['rhostar'] = np.ones_like(phys['period'])\n",
    "phys['rstar']   = np.ones_like(phys['period'])\n",
    "phys['mstar']   = np.ones_like(phys['period'])"
   ]
  },
  {
   "cell_type": "code",
   "execution_count": 8,
   "metadata": {},
   "outputs": [
    {
     "data": {
      "image/png": "[encoded data removed]",
      "text/plain": [
       "<Figure size 432x288 with 1 Axes>"
      ]
     },
     "metadata": {
      "needs_background": "light"
     },
     "output_type": "display_data"
    }
   ],
   "source": [
    "npl = np.zeros_like(phys['star_id'], dtype='int')\n",
    "\n",
    "for i, sid in enumerate(phys['star_id']):\n",
    "    npl[i] = np.sum(phys['star_id'] == sid)\n",
    "\n",
    "phys['npl'] = npl\n",
    "    \n",
    "plt.figure()\n",
    "plt.hist(npl, bins=np.arange(1,npl.max()+1), color='orange', edgecolor='k')\n",
    "plt.show()"
   ]
  },
  {
   "cell_type": "code",
   "execution_count": 9,
   "metadata": {},
   "outputs": [
    {
     "name": "stdout",
     "output_type": "stream",
     "text": [
      "18039 planets in PHYSICAL catalogue\n"
     ]
    }
   ],
   "source": [
    "print('%d planets in PHYSICAL catalogue' %len(phys['star_id']))\n",
    "\n",
    "WRITENEW = True\n",
    "if WRITENEW:\n",
    "    filepath = MAINPATH + 'catalogues/epos_physical_planets.csv'\n",
    "\n",
    "    with open(filepath, \"w\") as outfile:\n",
    "        writer = csv.writer(outfile)\n",
    "        writer.writerow(phys.keys())\n",
    "        writer.writerows(zip(*phys.values()))"
   ]
  },
  {
   "cell_type": "markdown",
   "metadata": {},
   "source": [
    "# Isolate the undetected planets"
   ]
  },
  {
   "cell_type": "code",
   "execution_count": 10,
   "metadata": {},
   "outputs": [],
   "source": [
    "und = phys.copy()\n",
    "\n",
    "in_observed_catalogue = np.isin(phys['period'], obs['period'])\n",
    "\n",
    "for k in und.keys():\n",
    "    und[k] = und[k][~in_observed_catalogue]"
   ]
  },
  {
   "cell_type": "code",
   "execution_count": 11,
   "metadata": {},
   "outputs": [
    {
     "name": "stdout",
     "output_type": "stream",
     "text": [
      "14863 planets in UNDETECTED catalogue\n"
     ]
    }
   ],
   "source": [
    "print('%d planets in UNDETECTED catalogue' %len(und['star_id']))\n",
    "\n",
    "WRITENEW = True\n",
    "if WRITENEW:\n",
    "    filepath = MAINPATH + 'catalogues/epos_undetected_planets.csv'\n",
    "\n",
    "    with open(filepath, \"w\") as outfile:\n",
    "        writer = csv.writer(outfile)\n",
    "        writer.writerow(und.keys())\n",
    "        writer.writerows(zip(*und.values()))"
   ]
  },
  {
   "cell_type": "markdown",
   "metadata": {},
   "source": [
    "# Apply limit cuts to the undetected objects"
   ]
  },
  {
   "cell_type": "code",
   "execution_count": 12,
   "metadata": {},
   "outputs": [],
   "source": [
    "# restore all the physical planets\n",
    "und = phys.copy()"
   ]
  },
  {
   "cell_type": "code",
   "execution_count": 13,
   "metadata": {},
   "outputs": [
    {
     "name": "stdout",
     "output_type": "stream",
     "text": [
      "1842 long-period planets (P > 400d) discarded\n"
     ]
    }
   ],
   "source": [
    "# first remove long period planets (P > 400)\n",
    "keep = (und['period'] <= 400.)\n",
    "\n",
    "for k in und.keys():\n",
    "    und[k] = und[k][keep]\n",
    "    \n",
    "print('%d long-period planets (P > 400d) discarded' %np.sum(~keep))"
   ]
  },
  {
   "cell_type": "code",
   "execution_count": 14,
   "metadata": {},
   "outputs": [
    {
     "name": "stdout",
     "output_type": "stream",
     "text": [
      "142 systems removed after being reduced to less than 3 planets\n"
     ]
    }
   ],
   "source": [
    "# update number of planets in each system to reflect removals\n",
    "uniquesys = np.unique(und['star_id'])\n",
    "\n",
    "for us in uniquesys:\n",
    "    und['npl'][und['star_id']==us] = int(np.sum(und['star_id']==us))\n",
    "\n",
    "    \n",
    "# remove systems with fewer than 3 planets\n",
    "npl = und['npl'].copy()\n",
    "\n",
    "for k in und.keys():\n",
    "    und[k] = und[k][npl >= 3]\n",
    "    \n",
    "print('%d systems removed after being reduced to less than 3 planets' %np.sum(npl <= 3))"
   ]
  },
  {
   "cell_type": "code",
   "execution_count": 15,
   "metadata": {},
   "outputs": [
    {
     "name": "stdout",
     "output_type": "stream",
     "text": [
      "656 systems discarded with undetected planets outside valid range\n"
     ]
    }
   ],
   "source": [
    "# elimnate SYSTEMS which do not match period (P > 2) or radius (R < 6) limits\n",
    "bad_planet = (und['radius'] > 6.0) + (und['period'] < 2.0)\n",
    "bad_system = np.zeros_like(bad_planet)\n",
    "\n",
    "\n",
    "uniquesys = np.unique(und['star_id'])\n",
    "\n",
    "for us in uniquesys:\n",
    "    bad_system[und['star_id']==us] = int(np.sum(bad_planet[und['star_id']==us]))\n",
    "\n",
    "for k in und.keys():\n",
    "    und[k] = und[k][~bad_system]\n",
    "    \n",
    "print('%d systems discarded with undetected planets outside valid range' %(len(uniquesys)-len(np.unique(und['star_id']))))"
   ]
  },
  {
   "cell_type": "code",
   "execution_count": 16,
   "metadata": {},
   "outputs": [
    {
     "name": "stdout",
     "output_type": "stream",
     "text": [
      "3 systems discarded with observed planets outside valid range\n"
     ]
    }
   ],
   "source": [
    "# check for SYSTEMS which do not match limits for detected planets either\n",
    "bad_planet = (obs['radius'] > 6.0) + (obs['period'] < 2.0)\n",
    "bad_system = np.isin(und['star_id'], obs['star_id'][bad_planet])\n",
    "\n",
    "uniquesys = np.unique(und['star_id'])\n",
    "\n",
    "for k in und.keys():\n",
    "    und[k] = und[k][~bad_system]\n",
    "    \n",
    "print('%d systems discarded with observed planets outside valid range' %(len(uniquesys)-len(np.unique(und['star_id']))))"
   ]
  },
  {
   "cell_type": "code",
   "execution_count": 17,
   "metadata": {},
   "outputs": [],
   "source": [
    "# seperate out the undetected planets\n",
    "in_observed_catalogue = np.isin(und['period'], obs['period'])\n",
    "\n",
    "for k in und.keys():\n",
    "    und[k] = und[k][~in_observed_catalogue]"
   ]
  },
  {
   "cell_type": "code",
   "execution_count": 18,
   "metadata": {},
   "outputs": [
    {
     "name": "stdout",
     "output_type": "stream",
     "text": [
      "8610 planets in LIMITED UNDETECTED catalogue\n"
     ]
    }
   ],
   "source": [
    "print('%d planets in LIMITED UNDETECTED catalogue' %len(und['star_id']))\n",
    "\n",
    "WRITENEW = True\n",
    "if WRITENEW:\n",
    "    filepath = MAINPATH + 'catalogues/epos_undetected_planets_with_limit_cuts.csv'\n",
    "\n",
    "    with open(filepath, \"w\") as outfile:\n",
    "        writer = csv.writer(outfile)\n",
    "        writer.writerow(und.keys())\n",
    "        writer.writerows(zip(*und.values()))"
   ]
  },
  {
   "cell_type": "markdown",
   "metadata": {},
   "source": [
    "# Apply limit cuts to the observed objects"
   ]
  },
  {
   "cell_type": "code",
   "execution_count": 19,
   "metadata": {},
   "outputs": [
    {
     "name": "stdout",
     "output_type": "stream",
     "text": [
      "6 long-period planets (P > 400d) discarded\n"
     ]
    }
   ],
   "source": [
    "# first remove long period planets (P > 400)\n",
    "keep = (obs['period'] <= 400.)\n",
    "\n",
    "for k in obs.keys():\n",
    "    obs[k] = obs[k][keep]\n",
    "    \n",
    "print('%d long-period planets (P > 400d) discarded' %np.sum(~keep))"
   ]
  },
  {
   "cell_type": "code",
   "execution_count": 20,
   "metadata": {},
   "outputs": [
    {
     "name": "stdout",
     "output_type": "stream",
     "text": [
      "18 small planets (rp/Re < 0.5) discarded\n"
     ]
    }
   ],
   "source": [
    "# next remove small planets (R < 0.5)\n",
    "keep = (obs['radius'] >= 0.5)\n",
    "\n",
    "for k in obs.keys():\n",
    "    obs[k] = obs[k][keep]\n",
    "    \n",
    "print('%d small planets (rp/Re < 0.5) discarded' %np.sum(~keep))"
   ]
  },
  {
   "cell_type": "code",
   "execution_count": 21,
   "metadata": {},
   "outputs": [
    {
     "name": "stdout",
     "output_type": "stream",
     "text": [
      "2499 systems removed after being reduced to less than 3 planets\n"
     ]
    }
   ],
   "source": [
    "# update number of planets in each system to reflect removals\n",
    "uniquesys = np.unique(obs['star_id'])\n",
    "\n",
    "for us in uniquesys:\n",
    "    obs['npl'][obs['star_id']==us] = int(np.sum(obs['star_id']==us))\n",
    "\n",
    "    \n",
    "# remove systems reduced to less than 3 planets\n",
    "npl = obs['npl'].copy()\n",
    "\n",
    "for k in obs.keys():\n",
    "    obs[k] = obs[k][npl >= 3]\n",
    "    \n",
    "print('%d systems removed after being reduced to less than 3 planets' %np.sum(npl < 3))"
   ]
  },
  {
   "cell_type": "code",
   "execution_count": 22,
   "metadata": {},
   "outputs": [
    {
     "name": "stdout",
     "output_type": "stream",
     "text": [
      "74 systems discarded\n"
     ]
    }
   ],
   "source": [
    "# finally elimnate SYSTEMS which do not match period (P > 2) or radius (R < 6) limits\n",
    "bad_planet = (obs['radius'] > 6.0) + (obs['period'] < 2.0)\n",
    "bad_system = np.zeros_like(bad_planet)\n",
    "\n",
    "\n",
    "uniquesys = np.unique(obs['star_id'])\n",
    "\n",
    "for us in uniquesys:\n",
    "    bad_system[obs['star_id']==us] = int(np.sum(bad_planet[obs['star_id']==us]))\n",
    "\n",
    "for k in obs.keys():\n",
    "    obs[k] = obs[k][~bad_system]\n",
    "    \n",
    "print('%d systems discarded' %(len(uniquesys)-len(np.unique(obs['star_id']))))"
   ]
  },
  {
   "cell_type": "code",
   "execution_count": 23,
   "metadata": {},
   "outputs": [
    {
     "name": "stdout",
     "output_type": "stream",
     "text": [
      "380 planets in LIMITED OBSERVED catalogue\n"
     ]
    }
   ],
   "source": [
    "print('%d planets in LIMITED OBSERVED catalogue' %len(obs['star_id']))\n",
    "\n",
    "WRITENEW = True\n",
    "if WRITENEW:\n",
    "    filepath = MAINPATH + 'catalogues/epos_observed_planets_with_limit_cuts.csv'\n",
    "\n",
    "    with open(filepath, \"w\") as outfile:\n",
    "        writer = csv.writer(outfile)\n",
    "        writer.writerow(obs.keys())\n",
    "        writer.writerows(zip(*obs.values()))"
   ]
  },
  {
   "cell_type": "markdown",
   "metadata": {},
   "source": [
    "# Read in masses and combine for OBSERVED MULTIS"
   ]
  },
  {
   "cell_type": "code",
   "execution_count": 24,
   "metadata": {},
   "outputs": [],
   "source": [
    "# READ IN EPOS DATABASE\n",
    "epos_file = MAINPATH + 'catalogues/epos_observed_planets.csv'\n",
    "\n",
    "epos_data = []\n",
    "with open(epos_file) as infile:\n",
    "    reader = csv.reader(infile)\n",
    "    \n",
    "    for row in reader:\n",
    "        epos_data.append(row)\n",
    "        \n",
    "KEYS = epos_data[0]\n",
    "VALUES = epos_data[1:]\n",
    "\n",
    "def getkey(keyname,keys=KEYS,values=VALUES, convert_to_float=True):\n",
    "    '''\n",
    "    keyname = (string) of column definition\n",
    "    '''\n",
    "    kid = keys.index(keyname)\n",
    "    \n",
    "    dummy = []\n",
    "    for row in values:\n",
    "        dummy.append(row[kid])\n",
    "        \n",
    "    if convert_to_float:\n",
    "        return np.array(dummy, dtype='float')\n",
    "    else:   \n",
    "        return np.array(dummy)"
   ]
  },
  {
   "cell_type": "code",
   "execution_count": 25,
   "metadata": {},
   "outputs": [],
   "source": [
    "# PULL RELEVANT QUANTITIES FROM CATALOGUE\n",
    "epos = {}\n",
    "\n",
    "epos['star_id'] = np.array(getkey('star_id'), dtype='int')\n",
    "\n",
    "epos['period'] = getkey('period')\n",
    "epos['radius'] = getkey('radius')\n",
    "epos['tdur']   = getkey('tdur')\n",
    "\n",
    "epos['rhostar'] = np.ones_like(epos['period'])\n",
    "epos['rstar']   = np.ones_like(epos['period'])\n",
    "epos['mstar']   = np.ones_like(epos['period'])\n",
    "\n",
    "epos['npl'] = np.array(getkey('npl'), dtype='int')"
   ]
  },
  {
   "cell_type": "code",
   "execution_count": 26,
   "metadata": {},
   "outputs": [],
   "source": [
    "# remove single-planet systems\n",
    "epos_npl = epos['npl'].copy()\n",
    "\n",
    "for k in epos.keys():\n",
    "    epos[k] = epos[k][epos_npl > 1]"
   ]
  },
  {
   "cell_type": "code",
   "execution_count": null,
   "metadata": {},
   "outputs": [],
   "source": []
  },
  {
   "cell_type": "code",
   "execution_count": 29,
   "metadata": {},
   "outputs": [],
   "source": [
    "r1 = epos['radius']\n",
    "r2 = np.load(MAINPATH + 'catalogues/epos_observed_pred_masses_oct22.npy')[0]"
   ]
  },
  {
   "cell_type": "code",
   "execution_count": 30,
   "metadata": {},
   "outputs": [
    {
     "data": {
      "image/png": "[encoded data removed]",
      "text/plain": [
       "<Figure size 432x288 with 1 Axes>"
      ]
     },
     "metadata": {
      "needs_background": "light"
     },
     "output_type": "display_data"
    }
   ],
   "source": [
    "plt.figure()\n",
    "plt.plot(r1, r2, '.', alpha=0.1)\n",
    "plt.show()"
   ]
  },
  {
   "cell_type": "code",
   "execution_count": 31,
   "metadata": {},
   "outputs": [
    {
     "name": "stdout",
     "output_type": "stream",
     "text": [
      "-0.004518297204525764 0.06947544091649573\n"
     ]
    }
   ],
   "source": [
    "err = (r1-r2)/r1\n",
    "\n",
    "print(np.median(err), np.std(err))"
   ]
  },
  {
   "cell_type": "code",
   "execution_count": null,
   "metadata": {},
   "outputs": [],
   "source": []
  },
  {
   "cell_type": "code",
   "execution_count": null,
   "metadata": {},
   "outputs": [],
   "source": [
    "# read in mass\n",
    "epos['mass'] = np.load(MAINPATH + 'catalogues/epos_observed_pred_masses_oct22.npy')[3]"
   ]
  },
  {
   "cell_type": "code",
   "execution_count": null,
   "metadata": {},
   "outputs": [],
   "source": [
    "print('%d planets in OBSERVED MULTIS catalogue' %len(epos['star_id']))\n",
    "\n",
    "WRITENEW = True\n",
    "if WRITENEW:\n",
    "    filepath = MAINPATH + 'catalogues/epos_observed_multis_with_masses.csv'\n",
    "\n",
    "    with open(filepath, \"w\") as outfile:\n",
    "        writer = csv.writer(outfile)\n",
    "        writer.writerow(epos.keys())\n",
    "        writer.writerows(zip(*epos.values()))"
   ]
  },
  {
   "cell_type": "markdown",
   "metadata": {},
   "source": [
    "# Read in masses and combine for UNDETECTED MULTIS"
   ]
  },
  {
   "cell_type": "code",
   "execution_count": null,
   "metadata": {},
   "outputs": [],
   "source": [
    "# READ IN EPOS DATABASE\n",
    "epos_file = MAINPATH + 'catalogues/epos_undetected_planets_with_limit_cuts.csv'\n",
    "\n",
    "epos_data = []\n",
    "with open(epos_file) as infile:\n",
    "    reader = csv.reader(infile)\n",
    "    \n",
    "    for row in reader:\n",
    "        epos_data.append(row)\n",
    "        \n",
    "KEYS = epos_data[0]\n",
    "VALUES = epos_data[1:]\n",
    "\n",
    "def getkey(keyname,keys=KEYS,values=VALUES, convert_to_float=True):\n",
    "    '''\n",
    "    keyname = (string) of column definition\n",
    "    '''\n",
    "    kid = keys.index(keyname)\n",
    "    \n",
    "    dummy = []\n",
    "    for row in values:\n",
    "        dummy.append(row[kid])\n",
    "        \n",
    "    if convert_to_float:\n",
    "        return np.array(dummy, dtype='float')\n",
    "    else:   \n",
    "        return np.array(dummy)"
   ]
  },
  {
   "cell_type": "code",
   "execution_count": null,
   "metadata": {},
   "outputs": [],
   "source": [
    "# PULL RELEVANT QUANTITIES FROM CATALOGUE\n",
    "epos = {}\n",
    "\n",
    "epos['star_id'] = np.array(getkey('star_id'), dtype='int')\n",
    "\n",
    "epos['period'] = getkey('period')\n",
    "epos['radius'] = getkey('radius')\n",
    "epos['tdur']   = getkey('tdur')\n",
    "\n",
    "epos['rhostar'] = np.ones_like(epos['period'])\n",
    "epos['rstar']   = np.ones_like(epos['period'])\n",
    "epos['mstar']   = np.ones_like(epos['period'])\n",
    "\n",
    "epos['npl'] = np.array(getkey('npl'), dtype='int')"
   ]
  },
  {
   "cell_type": "code",
   "execution_count": null,
   "metadata": {},
   "outputs": [],
   "source": [
    "# remove single-planet systems\n",
    "epos_npl = epos['npl'].copy()\n",
    "\n",
    "for k in epos.keys():\n",
    "    epos[k] = epos[k][epos_npl > 1]"
   ]
  },
  {
   "cell_type": "code",
   "execution_count": null,
   "metadata": {},
   "outputs": [],
   "source": [
    "# read in mass\n",
    "epos['mass'] = np.load(MAINPATH + 'catalogues/epos_undetected_pred_masses_dec11.npy')[3]"
   ]
  },
  {
   "cell_type": "code",
   "execution_count": null,
   "metadata": {},
   "outputs": [],
   "source": [
    "print('%d planets in UNDETECTED MULTIS catalogue' %len(epos['star_id']))\n",
    "\n",
    "WRITENEW = True\n",
    "if WRITENEW:\n",
    "    filepath = MAINPATH + 'catalogues/epos_undetected_multis_with_masses.csv'\n",
    "\n",
    "    with open(filepath, \"w\") as outfile:\n",
    "        writer = csv.writer(outfile)\n",
    "        writer.writerow(epos.keys())\n",
    "        writer.writerows(zip(*epos.values()))"
   ]
  }
 ],
 "metadata": {
  "kernelspec": {
   "display_name": "Python 3",
   "language": "python",
   "name": "python3"
  },
  "language_info": {
   "codemirror_mode": {
    "name": "ipython",
    "version": 3
   },
   "file_extension": ".py",
   "mimetype": "text/x-python",
   "name": "python",
   "nbconvert_exporter": "python",
   "pygments_lexer": "ipython3",
   "version": "3.7.3"
  }
 },
 "nbformat": 4,
 "nbformat_minor": 2
}
