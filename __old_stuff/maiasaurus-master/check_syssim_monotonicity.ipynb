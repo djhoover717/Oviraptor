{
 "cells": [
  {
   "cell_type": "code",
   "execution_count": 1,
   "metadata": {},
   "outputs": [],
   "source": [
    "import numpy as np\n",
    "import csv\n",
    "import matplotlib.pyplot as plt\n",
    "import LMC\n",
    "import archinfo\n",
    "import imp\n",
    "import astropy.stats\n",
    "import scipy.signal as sig\n",
    "import scipy.optimize as op\n",
    "import dcor\n",
    "import random\n",
    "\n",
    "from scipy import stats\n",
    "from timeit import default_timer\n",
    "\n",
    "from sklearn.cluster   import KMeans\n",
    "from sklearn.cluster   import SpectralClustering\n",
    "from sklearn.neighbors import DistanceMetric\n",
    "\n",
    "from KDEpy import FFTKDE\n",
    "\n",
    "\n",
    "pi = np.pi\n",
    "\n",
    "MSME = 332948.6                            # (M_sun/M_earth)\n",
    "\n",
    "\n",
    "RNRE = 3.8647      # (Rnep/Rearth)\n",
    "RJRE = 10.973      # (Rjup/Rearth)\n",
    "RSRE = 109.2       # (Rsun/Rearth)\n",
    "\n",
    "RSRN = RSRE/RNRE   # (Rsun/Rnep)\n",
    "RSRJ = RSRE/RJRE   # (Rsun/Rjup)\n",
    "\n",
    "BIGG = 6.67e-11    # Newton's constant [SI units]\n",
    "\n",
    "RSUN = 6.957e8     # solar radius [m]\n",
    "MSUN = 1.988e30    # Solar mass [kg]\n",
    "\n",
    "GSUN = BIGG / RSUN**3 * MSUN * (24*3600)**2    # Newton's constant [R_sun^3 * M_sun^-1 * days^-2]"
   ]
  },
  {
   "cell_type": "code",
   "execution_count": 2,
   "metadata": {},
   "outputs": [],
   "source": [
    "class System:\n",
    "    def __init__(self, sysid=None):\n",
    "        \n",
    "        self.sysid = sysid"
   ]
  },
  {
   "cell_type": "markdown",
   "metadata": {},
   "source": [
    "# Read in CKS data"
   ]
  },
  {
   "cell_type": "code",
   "execution_count": 3,
   "metadata": {},
   "outputs": [],
   "source": [
    "# READ IN CKS DATABASE\n",
    "# documentation of csv file found at http://www.astro.caltech.edu/~howard/cks/column-definitions.txt\n",
    "\n",
    "cks_file = '/Users/research/projects/maiasaurus/catalogues/clean_kepler_catalogue.csv'\n",
    "\n",
    "cks_data = []\n",
    "with open(cks_file) as infile:\n",
    "    reader = csv.reader(infile)\n",
    "    \n",
    "    for row in reader:\n",
    "        cks_data.append(row)\n",
    "        \n",
    "KEYS = cks_data[0]\n",
    "VALUES = cks_data[1:]\n",
    "\n",
    "def getkey(keyname,keys=KEYS,values=VALUES):\n",
    "    '''\n",
    "    keyname = (string) of column definition, see CKS documentation\n",
    "    '''\n",
    "    kid = keys.index(keyname)\n",
    "    \n",
    "    dummy = []\n",
    "    for row in values:\n",
    "        dummy.append(row[kid])\n",
    "    \n",
    "    return dummy"
   ]
  },
  {
   "cell_type": "code",
   "execution_count": 4,
   "metadata": {},
   "outputs": [],
   "source": [
    "# PULL RELEVANT QUANTITIES FROM CKS\n",
    "d = {}\n",
    "\n",
    "d['starname']    = getkey('id_starname')             # star id - 'K00082'\n",
    "d['koi']         = getkey('id_koicand')\n",
    "d['kic']         = getkey('id_kic')                  # Kepler Input Catalogue ID\n",
    "d['disposition'] = getkey('koi_disposition')         # status - 'CONFIRMED', 'CANDIDATE', 'FALSE POSITIVE', etc.\n",
    "d['falsepos']    = getkey('cks_fp')                  # CKS false positive designation - 'False' or 'True'\n",
    "d['snr']         = getkey('koi_model_snr')           # transit signal-to-noise\n",
    "d['npl']         = getkey('koi_count')               # number of planets in system\n",
    "\n",
    "d['period']      = getkey('koi_period')              # period (days)\n",
    "d['period_err1'] = getkey('koi_period_err1')\n",
    "d['period_err2'] = getkey('koi_period_err2')\n",
    "\n",
    "d['rprs']      = getkey('koi_ror')                   # planet-to-star radius ratio\n",
    "d['rprs_err1'] = getkey('koi_ror_err1')\n",
    "d['rprs_err2'] = getkey('koi_ror_err2')\n",
    "\n",
    "d['impact']      = getkey('koi_impact')              # impact parameter\n",
    "d['impact_err1'] = getkey('koi_impact_err1')\n",
    "d['impact_err2'] = getkey('koi_impact_err2')\n",
    "\n",
    "d['koi_duration']      = getkey('koi_duration')      # transit duration (hours)\n",
    "d['koi_duration_err1'] = getkey('koi_duration_err1')\n",
    "d['koi_duration_err2'] = getkey('koi_duration_err2')\n",
    "\n",
    "d['rp']      = getkey('iso_prad')                    # CKS+isochrone constrained planet radius (earth radius)\n",
    "d['rp_err1'] = getkey('iso_prad_err1')\n",
    "d['rp_err2'] = getkey('iso_prad_err2')\n",
    "\n",
    "d['sma']      = getkey('iso_sma')                    # CKS+isochrone constrained semi-major axis (AU)\n",
    "d['sma_err1'] = getkey('iso_sma_err1')\n",
    "d['sma_err2'] = getkey('iso_sma_err2')\n",
    "\n",
    "d['rstar']      = getkey('iso_srad')                 # CKS+isochrone constrained stellar radius (solar radius)\n",
    "d['rstar_err1'] = getkey('iso_srad_err1')\n",
    "d['rstar_err2'] = getkey('iso_srad_err2')\n",
    "\n",
    "d['mstar']      = getkey('iso_smass')                # CKS+isochrone constrained stellar mas (solar mass)\n",
    "d['mstar_err1'] = getkey('iso_smass_err1')\n",
    "d['mstar_err2'] = getkey('iso_smass_err2')\n",
    "\n",
    "d0 = d.copy()"
   ]
  },
  {
   "cell_type": "code",
   "execution_count": 5,
   "metadata": {},
   "outputs": [
    {
     "name": "stdout",
     "output_type": "stream",
     "text": [
      "total number of queried objects = 864\n",
      "after removing missing data, number of objects = 864\n"
     ]
    }
   ],
   "source": [
    "# QUICKLY CLEAN DATA\n",
    "\n",
    "d = d0.copy()\n",
    "\n",
    "KEY0 = 'starname'\n",
    "\n",
    "def check_lengths(d, key0=KEY0):\n",
    "    '''\n",
    "    checks that all data arrays are the same length\n",
    "    '''\n",
    "    keys = d.keys()    \n",
    "    L0   = len(d[key0])\n",
    "        \n",
    "    for k in keys:\n",
    "        if len(d[k]) != L0: raise ValueError('inconsistent array length for array \"%s\"' %k)\n",
    "            \n",
    "    return None\n",
    "\n",
    "\n",
    "def convert_to_arrays(d):\n",
    "    keys = d.keys()\n",
    "    dnew = {}\n",
    "    \n",
    "    for k in keys:\n",
    "        dnew[k] = np.asarray(d[k])\n",
    "        \n",
    "    return dnew\n",
    "\n",
    "    \n",
    "    \n",
    "def remove_missing_data(d, key0=KEY0):\n",
    "    '''\n",
    "    removes empty data cells\n",
    "    '''\n",
    "    keys = d.keys()\n",
    "    L0   = len(d[key0])\n",
    "    dnew = {}\n",
    "    \n",
    "    empty = np.zeros(L0)\n",
    "    \n",
    "    for k in keys:\n",
    "        empty += d[k] == ''\n",
    "    \n",
    "    empty = empty > 0.0\n",
    "\n",
    "    for k in keys:\n",
    "        dnew[k] = d[k][~empty]\n",
    "\n",
    "    check_lengths(dnew)\n",
    "    \n",
    "    return dnew\n",
    "\n",
    "\n",
    "# CLEAN DATA\n",
    "d = convert_to_arrays(d)\n",
    "print('total number of queried objects =', len(d[KEY0]))\n",
    "\n",
    "d = remove_missing_data(d)\n",
    "print('after removing missing data, number of objects =', len(d[KEY0]))\n",
    "\n",
    "check_lengths(d)"
   ]
  },
  {
   "cell_type": "code",
   "execution_count": 6,
   "metadata": {},
   "outputs": [],
   "source": [
    "# CONVERT STRINGS TO FLOATS\n",
    "def is_number(s):\n",
    "    '''\n",
    "    checks if input string s is a number\n",
    "    '''\n",
    "    try:\n",
    "        float(s)\n",
    "        return True\n",
    "    except ValueError:\n",
    "        return False\n",
    "    \n",
    "def convert_floats(d):\n",
    "    '''\n",
    "    converts numerical arrays from strings to floats\n",
    "    '''\n",
    "    keys = d.keys()\n",
    "    dnew = {}\n",
    "    \n",
    "    for k in keys:\n",
    "        if is_number(d[k][0]):\n",
    "            dnew[k] = np.asarray(d[k],dtype='float')\n",
    "        else:\n",
    "            dnew[k] = np.asarray(d[k])\n",
    "    \n",
    "    return dnew\n",
    "\n",
    "\n",
    "# CONVERT STRINGS TO FLOATS (where applicable)\n",
    "d = convert_floats(d)"
   ]
  },
  {
   "cell_type": "markdown",
   "metadata": {},
   "source": [
    "# Apply cuts to CKS data to match SysSim"
   ]
  },
  {
   "cell_type": "code",
   "execution_count": 7,
   "metadata": {},
   "outputs": [
    {
     "name": "stdout",
     "output_type": "stream",
     "text": [
      "5 long-period planets (P > 300d) discarded to match SysSim limit\n"
     ]
    }
   ],
   "source": [
    "# first remove long period planets (P > 300)\n",
    "keep = (d['period'] <= 300.)\n",
    "\n",
    "for k in d.keys():\n",
    "    d[k] = d[k][keep]\n",
    "    \n",
    "print('%d long-period planets (P > 300d) discarded to match SysSim limit' %np.sum(~keep))"
   ]
  },
  {
   "cell_type": "code",
   "execution_count": 8,
   "metadata": {},
   "outputs": [
    {
     "name": "stdout",
     "output_type": "stream",
     "text": [
      "3 small planets (rp/Re < 0.5) discarded to match SysSim limit\n"
     ]
    }
   ],
   "source": [
    "# next remove small planets (R < 0.5)\n",
    "keep = (d['rp'] >= 0.5)\n",
    "\n",
    "for k in d.keys():\n",
    "    d[k] = d[k][keep]\n",
    "    \n",
    "print('%d small planets (rp/Re < 0.5) discarded to match SysSim limit' %np.sum(~keep))"
   ]
  },
  {
   "cell_type": "code",
   "execution_count": 9,
   "metadata": {},
   "outputs": [
    {
     "name": "stdout",
     "output_type": "stream",
     "text": [
      "1 systems removed after being reduced to 1 planet\n"
     ]
    }
   ],
   "source": [
    "# update number of planets in each system to reflect removals\n",
    "uniquesys = np.unique(d['starname'])\n",
    "\n",
    "for us in uniquesys:\n",
    "    d['npl'][d['starname']==us] = int(np.sum(d['starname']==us))\n",
    "\n",
    "    \n",
    "# remove systems reduced to just one planet\n",
    "npl = d['npl'].copy()\n",
    "\n",
    "for k in d.keys():\n",
    "    d[k] = d[k][npl > 1]\n",
    "    \n",
    "print('%d systems removed after being reduced to 1 planet' %np.sum(npl<=1))"
   ]
  },
  {
   "cell_type": "code",
   "execution_count": 10,
   "metadata": {},
   "outputs": [
    {
     "name": "stdout",
     "output_type": "stream",
     "text": [
      "69 systems discarded to match SysSim limits\n"
     ]
    }
   ],
   "source": [
    "# finally elimnate SYSTEMS which do not match period (P > 3) or radius (R < 10) limits\n",
    "bad_planet = (d['rp'] > 10.0) + (d['period'] < 3.0)\n",
    "bad_system = np.zeros_like(bad_planet)\n",
    "\n",
    "\n",
    "uniquesys = np.unique(d['starname'])\n",
    "\n",
    "for us in uniquesys:\n",
    "    bad_system[d['starname']==us] = int(np.sum(bad_planet[d['starname']==us]))\n",
    "\n",
    "for k in d.keys():\n",
    "    d[k] = d[k][~bad_system]\n",
    "    \n",
    "print('%d systems discarded to match SysSim limits' %(len(uniquesys)-len(np.unique(d['starname']))))"
   ]
  },
  {
   "cell_type": "markdown",
   "metadata": {},
   "source": [
    "# Calculate compexity metrics for each CKS system"
   ]
  },
  {
   "cell_type": "code",
   "execution_count": 11,
   "metadata": {},
   "outputs": [],
   "source": [
    "uniquesys = np.unique(d['starname'])\n",
    "systems   = []\n",
    "\n",
    "for us in uniquesys:\n",
    "    # initialize System() object\n",
    "    s = System()\n",
    "    \n",
    "    # pull stellar data\n",
    "    s.sysid   = us\n",
    "    s.Mstar   = d['mstar'][d['starname']==us][0]\n",
    "    s.Rstar   = d['rstar'][d['starname']==us][0]\n",
    "    \n",
    "    # pull planetary data\n",
    "    s.rprs    = d['rprs'][d['starname']==us]\n",
    "    s.periods = d['period'][d['starname']==us]\n",
    "    \n",
    "    # sort periods and durations by period\n",
    "    order = np.argsort(s.periods)\n",
    "    \n",
    "    s.rprs    = s.rprs[order]\n",
    "    s.periods = s.periods[order]\n",
    "    \n",
    "    \n",
    "    # calculate complexity measures (N, mu, Q, M, S, C, f)\n",
    "    s.N  = len(s.rprs)\n",
    "    s.M  = archinfo.M(s.periods, s.rprs)\n",
    "    \n",
    "    systems.append(s)"
   ]
  },
  {
   "cell_type": "code",
   "execution_count": 12,
   "metadata": {},
   "outputs": [],
   "source": [
    "Nsys = len(uniquesys)\n",
    "\n",
    "N  = np.zeros(Nsys)\n",
    "M  = np.zeros(Nsys)\n",
    "\n",
    "\n",
    "for i, s in enumerate(systems):\n",
    "    N[i]  = s.N\n",
    "    M[i]  = s.M"
   ]
  },
  {
   "cell_type": "markdown",
   "metadata": {},
   "source": [
    "# Read in SysSim data"
   ]
  },
  {
   "cell_type": "code",
   "execution_count": 13,
   "metadata": {},
   "outputs": [],
   "source": [
    "# READ IN SYSSIM DATABASE\n",
    "syssim_file = '/Users/research/Desktop/dinosaur/ExoJulia/SysSimExClusters/trials/observed_catalog_01.csv'\n",
    "\n",
    "syssim_data = []\n",
    "with open(syssim_file) as infile:\n",
    "    reader = csv.reader(infile)\n",
    "    \n",
    "    for row in reader:\n",
    "        syssim_data.append(row)\n",
    "        \n",
    "KEYS = syssim_data[20]\n",
    "VALUES = syssim_data[21:]\n",
    "\n",
    "def getkey(keyname,keys=KEYS,values=VALUES, convert_to_float=True):\n",
    "    '''\n",
    "    keyname = (string) of column definition\n",
    "    '''\n",
    "    kid = keys.index(keyname)\n",
    "    \n",
    "    dummy = []\n",
    "    for row in values:\n",
    "        dummy.append(row[kid])\n",
    "        \n",
    "    if convert_to_float:\n",
    "        return np.array(dummy, dtype='float')\n",
    "    else:   \n",
    "        return np.array(dummy)"
   ]
  },
  {
   "cell_type": "code",
   "execution_count": 14,
   "metadata": {},
   "outputs": [],
   "source": [
    "# PULL RELEVANT QUANTITIES FROM CATALOGUE\n",
    "syssim = {}\n",
    "\n",
    "syssim['star_id'] = np.array(getkey('star_id'), dtype='int')\n",
    "syssim['target_id'] = np.array(getkey('target_id'), dtype='int')\n",
    "\n",
    "syssim['period'] = getkey('period')\n",
    "syssim['depth']  = getkey('depth')\n",
    "syssim['tdur']   = getkey('duration')\n",
    "\n",
    "syssim['rstar']   = getkey('star_radius')\n",
    "syssim['mstar']   = getkey('star_mass')\n",
    "syssim['rhostar'] = syssim['mstar']/syssim['rstar']**3\n",
    "\n",
    "syssim['rprs'] = np.sqrt(syssim['depth'])\n",
    "syssim['rp']   = syssim['rprs']*syssim['rstar']*RSRE"
   ]
  },
  {
   "cell_type": "code",
   "execution_count": 15,
   "metadata": {},
   "outputs": [],
   "source": [
    "# determine number of planets per system\n",
    "star_id = np.array(syssim['star_id'], dtype='float')\n",
    "\n",
    "# count up the planets in each system\n",
    "syssim_npl = np.zeros_like(star_id, dtype='int')\n",
    "\n",
    "for i, sid in enumerate(star_id):\n",
    "    syssim_npl[i] = np.sum(star_id == sid)\n",
    "    \n",
    "syssim['npl'] = syssim_npl\n",
    "\n",
    "# remove single-planet systems\n",
    "for k in syssim.keys():\n",
    "    syssim[k] = syssim[k][syssim_npl > 1]"
   ]
  },
  {
   "cell_type": "markdown",
   "metadata": {},
   "source": [
    "# Apply limit cuts to SysSim data"
   ]
  },
  {
   "cell_type": "code",
   "execution_count": 16,
   "metadata": {},
   "outputs": [
    {
     "name": "stdout",
     "output_type": "stream",
     "text": [
      "0 long-period planets (P > 300d) discarded\n"
     ]
    }
   ],
   "source": [
    "# first remove long period planets (P > 400)\n",
    "keep = (syssim['period'] <= 300.)\n",
    "\n",
    "for k in syssim.keys():\n",
    "    syssim[k] = syssim[k][keep]\n",
    "    \n",
    "print('%d long-period planets (P > 300d) discarded' %np.sum(~keep))"
   ]
  },
  {
   "cell_type": "code",
   "execution_count": 17,
   "metadata": {},
   "outputs": [
    {
     "name": "stdout",
     "output_type": "stream",
     "text": [
      "0 small planets (rp/Re < 0.5) discarded\n"
     ]
    }
   ],
   "source": [
    "# next remove small planets (R < 0.5)\n",
    "keep = (syssim['rp'] >= 0.5)\n",
    "\n",
    "for k in syssim.keys():\n",
    "    syssim[k] = syssim[k][keep]\n",
    "    \n",
    "print('%d small planets (rp/Re < 0.5) discarded' %np.sum(~keep))"
   ]
  },
  {
   "cell_type": "code",
   "execution_count": 18,
   "metadata": {},
   "outputs": [
    {
     "name": "stdout",
     "output_type": "stream",
     "text": [
      "0 systems removed after being reduced to 1 planet\n"
     ]
    }
   ],
   "source": [
    "# update number of planets in each system to reflect removals\n",
    "syssim_uniquesys = np.unique(syssim['star_id'])\n",
    "\n",
    "for us in syssim_uniquesys:\n",
    "    syssim['npl'][syssim['star_id']==us] = int(np.sum(syssim['star_id']==us))\n",
    "\n",
    "    \n",
    "# remove systems reduced to just one planet\n",
    "syssim_npl = syssim['npl'].copy()\n",
    "\n",
    "for k in syssim.keys():\n",
    "    syssim[k] = syssim[k][syssim_npl > 1]\n",
    "    \n",
    "print('%d systems removed after being reduced to 1 planet' %np.sum(syssim_npl<=1))"
   ]
  },
  {
   "cell_type": "code",
   "execution_count": 19,
   "metadata": {},
   "outputs": [
    {
     "name": "stdout",
     "output_type": "stream",
     "text": [
      "0 systems discarded\n"
     ]
    }
   ],
   "source": [
    "# finally elimnate SYSTEMS which do not match period (P > 3) or radius (R < 10) limits\n",
    "bad_planet = (syssim['rp'] > 10.0) + (syssim['period'] < 3.0)\n",
    "bad_system = np.zeros_like(bad_planet)\n",
    "\n",
    "\n",
    "syssim_uniquesys = np.unique(syssim['star_id'])\n",
    "\n",
    "for us in syssim_uniquesys:\n",
    "    bad_system[syssim['star_id']==us] = int(np.sum(bad_planet[syssim['star_id']==us]))\n",
    "\n",
    "for k in syssim.keys():\n",
    "    syssim[k] = syssim[k][~bad_system]\n",
    "    \n",
    "print('%d systems discarded' %(len(syssim_uniquesys)-len(np.unique(syssim['star_id']))))"
   ]
  },
  {
   "cell_type": "markdown",
   "metadata": {},
   "source": [
    "# Calculate complexity metrics for SysSim systems"
   ]
  },
  {
   "cell_type": "code",
   "execution_count": 20,
   "metadata": {},
   "outputs": [],
   "source": [
    "# determine number of planets per system\n",
    "star_id = np.array(syssim['star_id'], dtype='float')\n",
    "\n",
    "# count up the planets in each system\n",
    "syssim_npl = np.zeros_like(star_id, dtype='int')\n",
    "\n",
    "for i, sid in enumerate(star_id):\n",
    "    syssim_npl[i] = np.sum(star_id == sid)\n",
    "    \n",
    "syssim['npl'] = syssim_npl\n",
    "\n",
    "# remove single-planet systems\n",
    "for k in syssim.keys():\n",
    "    syssim[k] = syssim[k][syssim_npl > 1]"
   ]
  },
  {
   "cell_type": "code",
   "execution_count": 21,
   "metadata": {},
   "outputs": [],
   "source": [
    "# calculate system-level measures\n",
    "\n",
    "syssim_uniquesys = np.unique(syssim['star_id'])\n",
    "syssim_systems   = []\n",
    "\n",
    "for us in syssim_uniquesys:   \n",
    "    # initialize System() object\n",
    "    s = System()\n",
    "    \n",
    "    # pull stellar data\n",
    "    s.sysid   = us\n",
    "    s.Mstar   = syssim['mstar'][syssim['star_id']==us][0]\n",
    "    s.Rstar   = syssim['rstar'][syssim['star_id']==us][0]\n",
    "    \n",
    "    # pull planetary data\n",
    "    s.rprs    = syssim['rp'][syssim['star_id']==us]/RSRE\n",
    "    s.periods = syssim['period'][syssim['star_id']==us]\n",
    "\n",
    "    # sort masses, periods, and durations by period\n",
    "    order = np.argsort(s.periods)\n",
    "    \n",
    "    s.rprs    = s.rprs[order]\n",
    "    s.periods = s.periods[order]\n",
    "    \n",
    "    # calculate complexity measures (N, mu, Q, M, S, C, f)\n",
    "    s.N  = len(s.rprs)\n",
    "    s.M  = archinfo.M(s.periods, s.rprs)\n",
    "    \n",
    "    syssim_systems.append(s)"
   ]
  },
  {
   "cell_type": "code",
   "execution_count": 22,
   "metadata": {},
   "outputs": [],
   "source": [
    "syssim_Nsys = len(syssim_uniquesys)\n",
    "\n",
    "syssim_N  = np.zeros(syssim_Nsys)\n",
    "syssim_M  = np.zeros(syssim_Nsys)\n",
    "\n",
    "for i, s in enumerate(syssim_systems):\n",
    "    syssim_N[i]  = s.N\n",
    "    syssim_M[i]  = s.M"
   ]
  },
  {
   "cell_type": "markdown",
   "metadata": {},
   "source": [
    "# Now plot them together"
   ]
  },
  {
   "cell_type": "code",
   "execution_count": 23,
   "metadata": {},
   "outputs": [
    {
     "data": {
      "image/png": "[encoded data removed]",
      "text/plain": [
       "<Figure size 576x360 with 1 Axes>"
      ]
     },
     "metadata": {
      "needs_background": "light"
     },
     "output_type": "display_data"
    }
   ],
   "source": [
    "pKS_M = stats.ks_2samp(M[N>2], syssim_M[syssim_N>2])[1]\n",
    "pKS_N = stats.ks_2samp(N[N>2], syssim_N[syssim_N>2])[1]\n",
    "\n",
    "pAD_M = stats.anderson_ksamp([M[N>2],syssim_M[syssim_N>2]])[2]\n",
    "pAD_N = stats.anderson_ksamp([N[N>2],syssim_N[syssim_N>2]])[2]\n",
    "\n",
    "\n",
    "plt.figure(figsize=(8,5))\n",
    "\n",
    "\n",
    "plt.plot(np.sort(syssim_M[syssim_N>2]), np.linspace(0,1,len(syssim_M[syssim_N>2])), c='gold', lw=2.5, label='SysSim')\n",
    "plt.plot(np.sort(M[N>2]), np.linspace(0,1,len(M[N>2])), c='dimgrey', lw=2.5, ls='--', label='Kepler')\n",
    "plt.xlabel(r'$\\mathcal{M}$', fontsize=24)\n",
    "plt.ylabel(r'$cdf$', fontsize=16)\n",
    "plt.xlim(-1,1)\n",
    "plt.text(0.92, 0.05, '$p_{KS}$ = %.3f \\n$p_{AD}$ = %.3f' %(pKS_M, pAD_M), fontsize=16, ha='right', va='bottom')\n",
    "plt.legend(loc='upper left', fontsize=16)\n",
    "plt.show()"
   ]
  },
  {
   "cell_type": "code",
   "execution_count": 24,
   "metadata": {},
   "outputs": [
    {
     "data": {
      "text/plain": [
       "0.416"
      ]
     },
     "execution_count": 24,
     "metadata": {},
     "output_type": "execute_result"
    }
   ],
   "source": [
    "np.sum(syssim_M[syssim_N>2] < 0)/len(syssim_M[syssim_N>2])"
   ]
  },
  {
   "cell_type": "code",
   "execution_count": 25,
   "metadata": {},
   "outputs": [
    {
     "data": {
      "text/plain": [
       "425.0"
      ]
     },
     "execution_count": 25,
     "metadata": {},
     "output_type": "execute_result"
    }
   ],
   "source": [
    "(416+387+442+411+403+421+409+492+472+397)/10"
   ]
  },
  {
   "cell_type": "code",
   "execution_count": null,
   "metadata": {},
   "outputs": [],
   "source": []
  }
 ],
 "metadata": {
  "kernelspec": {
   "display_name": "Python 3",
   "language": "python",
   "name": "python3"
  },
  "language_info": {
   "codemirror_mode": {
    "name": "ipython",
    "version": 3
   },
   "file_extension": ".py",
   "mimetype": "text/x-python",
   "name": "python",
   "nbconvert_exporter": "python",
   "pygments_lexer": "ipython3",
   "version": "3.7.3"
  }
 },
 "nbformat": 4,
 "nbformat_minor": 2
}
