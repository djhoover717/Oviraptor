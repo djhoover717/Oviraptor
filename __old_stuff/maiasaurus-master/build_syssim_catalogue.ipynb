{
 "cells": [
  {
   "cell_type": "code",
   "execution_count": 1,
   "metadata": {},
   "outputs": [],
   "source": [
    "import numpy as np\n",
    "import matplotlib.pyplot as plt\n",
    "import sys\n",
    "import csv\n",
    "\n",
    "MAINPATH = '/Users/research/projects/maiasaurus/'"
   ]
  },
  {
   "cell_type": "markdown",
   "metadata": {},
   "source": [
    "# Build the observed catalogue"
   ]
  },
  {
   "cell_type": "code",
   "execution_count": 2,
   "metadata": {},
   "outputs": [],
   "source": [
    "# READ IN OBSERVED PLANETS\n",
    "obs_file = MAINPATH + 'catalogues/syssim_observed_planets_raw.csv'\n",
    "\n",
    "obs_data = []\n",
    "with open(obs_file) as infile:\n",
    "    reader = csv.reader(infile)\n",
    "    \n",
    "    for row in reader:\n",
    "        obs_data.append(row)\n",
    "        \n",
    "KEYS = obs_data[20]\n",
    "VALUES = obs_data[21:]\n",
    "\n",
    "def getkey(keyname,keys=KEYS,values=VALUES, convert_to_float=True):\n",
    "    '''\n",
    "    keyname = (string) of column definition\n",
    "    '''\n",
    "    kid = keys.index(keyname)\n",
    "    \n",
    "    dummy = []\n",
    "    for row in values:\n",
    "        dummy.append(row[kid])\n",
    "        \n",
    "    if convert_to_float:\n",
    "        return np.array(dummy, dtype='float')\n",
    "    else:   \n",
    "        return np.array(dummy)"
   ]
  },
  {
   "cell_type": "code",
   "execution_count": 3,
   "metadata": {},
   "outputs": [],
   "source": [
    "obs = {}\n",
    "\n",
    "obs['target_id'] = getkey('target_id')\n",
    "obs['star_id']   = getkey('star_id')\n",
    "\n",
    "obs['period']    = getkey('period')\n",
    "obs['depth']     = getkey('depth')\n",
    "obs['duration']  = getkey('duration')\n",
    "\n",
    "obs['star_mass']   = getkey('star_mass')\n",
    "obs['star_radius']   = getkey('star_radius')"
   ]
  },
  {
   "cell_type": "code",
   "execution_count": 4,
   "metadata": {},
   "outputs": [
    {
     "data": {
      "image/png": "[encoded data removed]",
      "text/plain": [
       "<Figure size 432x288 with 1 Axes>"
      ]
     },
     "metadata": {
      "needs_background": "light"
     },
     "output_type": "display_data"
    },
    {
     "name": "stdout",
     "output_type": "stream",
     "text": [
      "2183 planets in 1622 OBSERVED systems\n"
     ]
    }
   ],
   "source": [
    "npl = np.zeros_like(obs['target_id'], dtype='int')\n",
    "\n",
    "for i, sid in enumerate(obs['target_id']):\n",
    "    npl[i] = np.sum(obs['target_id'] == sid)\n",
    "\n",
    "obs['npl'] = npl\n",
    "    \n",
    "plt.figure()\n",
    "plt.hist(npl, bins=np.arange(1,npl.max()+1), color='cornflowerblue', edgecolor='k')\n",
    "plt.show()\n",
    "\n",
    "print('%d planets in %d OBSERVED systems' %(len(obs['target_id']), len(np.unique(obs['target_id']))))"
   ]
  },
  {
   "cell_type": "markdown",
   "metadata": {},
   "source": [
    "# Build the underlying physical catalogue"
   ]
  },
  {
   "cell_type": "code",
   "execution_count": 5,
   "metadata": {},
   "outputs": [],
   "source": [
    "# READ IN PHYSICAL PLANETS\n",
    "phys_file = MAINPATH +'catalogues/syssim_physical_planets_raw.csv'\n",
    "\n",
    "phys_data = []\n",
    "with open(phys_file) as infile:\n",
    "    reader = csv.reader(infile)\n",
    "    \n",
    "    for row in reader:\n",
    "        phys_data.append(row)\n",
    "        \n",
    "KEYS = phys_data[20]\n",
    "VALUES = phys_data[21:]\n",
    "\n",
    "def getkey(keyname,keys=KEYS,values=VALUES, convert_to_float=True):\n",
    "    '''\n",
    "    keyname = (string) of column definition\n",
    "    '''\n",
    "    kid = keys.index(keyname)\n",
    "    \n",
    "    dummy = []\n",
    "    for row in values:\n",
    "        dummy.append(row[kid])\n",
    "        \n",
    "    if convert_to_float:\n",
    "        return np.array(dummy, dtype='float')\n",
    "    else:   \n",
    "        return np.array(dummy)"
   ]
  },
  {
   "cell_type": "code",
   "execution_count": 6,
   "metadata": {},
   "outputs": [],
   "source": [
    "phys = {}\n",
    "\n",
    "phys['target_id'] = getkey('target_id')\n",
    "phys['star_id'] = getkey('star_id')\n",
    "\n",
    "phys['planet_mass'] = getkey('planet_mass')\n",
    "phys['planet_radius'] = getkey('planet_radius')\n",
    "\n",
    "phys['clusterid'] = getkey('clusterid')\n",
    "phys['period'] = getkey('period')\n",
    "phys['ecc'] = getkey('ecc')\n",
    "\n",
    "phys['star_mass'] = getkey('star_mass')\n",
    "phys['star_radius'] = getkey('star_radius')"
   ]
  },
  {
   "cell_type": "code",
   "execution_count": 7,
   "metadata": {},
   "outputs": [],
   "source": [
    "# only keep (twin) systems with at least one planet detected\n",
    "keep = np.isin(phys['star_id'], obs['star_id'])\n",
    "\n",
    "for k in phys.keys():\n",
    "    phys[k] = phys[k][keep]"
   ]
  },
  {
   "cell_type": "markdown",
   "metadata": {},
   "source": [
    "## IMPORTANT NOTE\n",
    "\n",
    "* \"target_id\" is a unique identifier for a system in the physical catalogue\n",
    "\n",
    "* \"star_id\" may be shared between systems because stars are reused during simulation (for efficiency)\n",
    "\n",
    "Due to an earlier confusion between these terms, I mistakenly marked all systems for which \"star_id\" had at least one observed planet. This led to high multiplicities (>20) because I was combining multiple systems - all with the same star_id - into a single system. So, the \"physical_systems\" catalogue I sent to Andrew contained ~12000 planets, ~3200 of which were around stars which did not have detected planets but which had stellar twins which did have detected planets.\n",
    "\n",
    "So there are two outputs from this notebook:\n",
    "\n",
    "1. \"syssim_physical_planets_including_twins\" contains the (falsely included) twin systems; ~12000 objects\n",
    "2. \"syssim_physical_planets\" contains only the real systems; ~8800 objects"
   ]
  },
  {
   "cell_type": "code",
   "execution_count": 8,
   "metadata": {},
   "outputs": [
    {
     "data": {
      "image/png": "[encoded data removed]",
      "text/plain": [
       "<Figure size 432x288 with 1 Axes>"
      ]
     },
     "metadata": {
      "needs_background": "light"
     },
     "output_type": "display_data"
    }
   ],
   "source": [
    "npl = np.zeros_like(phys['target_id'], dtype='int')\n",
    "\n",
    "for i, sid in enumerate(phys['target_id']):\n",
    "    npl[i] = np.sum(phys['target_id'] == sid)\n",
    "\n",
    "phys['npl'] = npl\n",
    "    \n",
    "plt.figure()\n",
    "plt.hist(npl, bins=np.arange(1,npl.max()+1), color='orange', edgecolor='k')\n",
    "plt.show()"
   ]
  },
  {
   "cell_type": "code",
   "execution_count": 9,
   "metadata": {},
   "outputs": [
    {
     "name": "stdout",
     "output_type": "stream",
     "text": [
      "12609 planets in 2475 (TWIN) PHYSICAL systems\n"
     ]
    }
   ],
   "source": [
    "print('%d planets in %d (TWIN) PHYSICAL systems' %(len(phys['target_id']), len(np.unique(phys['target_id']))))\n",
    "\n",
    "WRITENEW = True\n",
    "if WRITENEW:\n",
    "    filepath = MAINPATH + 'catalogues/syssim_physical_planets_including_twins.csv'\n",
    "\n",
    "    with open(filepath, \"w\") as outfile:\n",
    "        writer = csv.writer(outfile)\n",
    "        writer.writerow(phys.keys())\n",
    "        writer.writerows(zip(*phys.values()))"
   ]
  },
  {
   "cell_type": "markdown",
   "metadata": {},
   "source": [
    "# Read in the masses from Andrew"
   ]
  },
  {
   "cell_type": "code",
   "execution_count": 10,
   "metadata": {},
   "outputs": [
    {
     "data": {
      "image/png": "[encoded data removed]",
      "text/plain": [
       "<Figure size 576x360 with 1 Axes>"
      ]
     },
     "metadata": {
      "needs_background": "light"
     },
     "output_type": "display_data"
    }
   ],
   "source": [
    "# read in mass\n",
    "phys['radius'] = np.load(MAINPATH + 'catalogues/syssim_physical_pred_masses_dec17.npy')[0]\n",
    "phys['mass']   = np.load(MAINPATH + 'catalogues/syssim_physical_pred_masses_dec17.npy')[3]\n",
    "\n",
    "plt.figure(figsize=(8,5))\n",
    "plt.plot(phys['mass'], phys['radius'], 'k.', alpha=0.1)\n",
    "plt.show()"
   ]
  },
  {
   "cell_type": "code",
   "execution_count": 11,
   "metadata": {},
   "outputs": [],
   "source": [
    "# Eliminate the false twin systems\n",
    "keep = np.isin(phys['target_id'], obs['target_id'])\n",
    "\n",
    "for k in phys.keys():\n",
    "    phys[k] = phys[k][keep]"
   ]
  },
  {
   "cell_type": "code",
   "execution_count": 12,
   "metadata": {},
   "outputs": [
    {
     "name": "stdout",
     "output_type": "stream",
     "text": [
      "8865 planets in 1622 PHYSICAL systems\n"
     ]
    }
   ],
   "source": [
    "print('%d planets in %d PHYSICAL systems' %(len(phys['target_id']), len(np.unique(phys['target_id']))))\n",
    "\n",
    "WRITENEW = True\n",
    "if WRITENEW:\n",
    "    filepath = MAINPATH + 'catalogues/syssim_physical_planets.csv'\n",
    "\n",
    "    with open(filepath, \"w\") as outfile:\n",
    "        writer = csv.writer(outfile)\n",
    "        writer.writerow(phys.keys())\n",
    "        writer.writerows(zip(*phys.values()))"
   ]
  },
  {
   "cell_type": "markdown",
   "metadata": {},
   "source": [
    "# Identify which systems are in the observed catalogue"
   ]
  },
  {
   "cell_type": "code",
   "execution_count": 13,
   "metadata": {},
   "outputs": [],
   "source": [
    "# pull observed/physical periods and IDs\n",
    "obs_per  = np.array(obs['period'], dtype='float')\n",
    "phys_per = np.array(phys['period'], dtype='float')\n",
    "phys_rad = np.array(phys['radius'], dtype='float')\n",
    "phys_mass = np.array(phys['mass'], dtype='float')\n",
    "\n",
    "obs_id  = np.array(obs['target_id'], dtype='int')\n",
    "phys_id = np.array(phys['target_id'], dtype='int')\n",
    "\n",
    "\n",
    "# new lists of TRUE DETECTED periods (slightly different than observed due to simulated measurement uncertainty)\n",
    "true_per = np.zeros_like(obs_per)\n",
    "true_rad = np.zeros_like(obs_per)\n",
    "obs_mass = np.zeros_like(obs_per)\n",
    "\n",
    "\n",
    "# iterate over all OBSERVED periods\n",
    "for i, per in enumerate(obs_per):\n",
    "    \n",
    "    # pull the PHYSICAL periods for this system\n",
    "    phys_per_in_this_system = phys_per[phys_id == obs_id[i]]\n",
    "    phys_rad_in_this_system = phys_rad[phys_id == obs_id[i]]\n",
    "    phys_mass_in_this_system = phys_mass[phys_id == obs_id[i]]\n",
    "        \n",
    "    # select the physical period closest to the observed period and record it as the DETECTED period\n",
    "    loc = np.argmin(np.abs(phys_per_in_this_system - obs_per[i]))\n",
    "    \n",
    "    true_per[i] = phys_per_in_this_system[loc]\n",
    "    true_rad[i] = phys_rad_in_this_system[loc]\n",
    "    obs_mass[i] = phys_mass_in_this_system[loc]\n",
    "    \n",
    "    \n",
    "obs['radius'] = true_rad\n",
    "obs['mass'] = obs_mass"
   ]
  },
  {
   "cell_type": "code",
   "execution_count": 14,
   "metadata": {},
   "outputs": [],
   "source": [
    "# make DETECTED catalogue (very similar to OBSERVED)\n",
    "det = obs.copy()\n",
    "det['period'] = true_per\n",
    "\n",
    "\n",
    "# make UNDETECTED catalogue\n",
    "keep = np.isin(phys_per, true_per)\n",
    "und  = phys.copy()\n",
    "\n",
    "for k in und.keys():\n",
    "    und[k] = und[k][~keep]"
   ]
  },
  {
   "cell_type": "code",
   "execution_count": null,
   "metadata": {},
   "outputs": [],
   "source": []
  },
  {
   "cell_type": "code",
   "execution_count": 22,
   "metadata": {},
   "outputs": [
    {
     "data": {
      "text/plain": [
       "[<matplotlib.lines.Line2D at 0x12aa07c50>]"
      ]
     },
     "execution_count": 22,
     "metadata": {},
     "output_type": "execute_result"
    },
    {
     "data": {
      "image/png": "[encoded data removed]",
      "text/plain": [
       "<Figure size 432x288 with 1 Axes>"
      ]
     },
     "metadata": {
      "needs_background": "light"
     },
     "output_type": "display_data"
    }
   ],
   "source": [
    "plt.plot(obs['depth']**0.5, obs['radius']/obs['star_radius'], 'k.')"
   ]
  },
  {
   "cell_type": "code",
   "execution_count": null,
   "metadata": {},
   "outputs": [],
   "source": []
  },
  {
   "cell_type": "code",
   "execution_count": null,
   "metadata": {},
   "outputs": [],
   "source": []
  },
  {
   "cell_type": "code",
   "execution_count": null,
   "metadata": {},
   "outputs": [],
   "source": [
    "# pull observed/physical IDs\n",
    "obs_id = np.array(obs['target_id'], dtype='int')\n",
    "det_id = np.array(det['target_id'], dtype='int')\n",
    "\n",
    "# pull observed periods; make radius & mass arrays\n",
    "obs_per  = np.array(obs['period'], dtype='float')\n",
    "obs_rad  = np.zeros_like(obs_per)\n",
    "obs_mass = np.zeros_like(obs_per)\n",
    "\n",
    "# iterate over all OBSERVED periods\n",
    "for i, per in enumerate(obs_per):\n",
    "    \n",
    "    # pull the DETECTED periods, masses, and radii for this system\n",
    "    det_per_in_this_system  = det['period'][det_id == obs_id[i]]\n",
    "    det_rad_in_this_system  = det['radius'][det_id == obs_id[i]]\n",
    "    det_mass_in_this_system = det['mass'][det_id == obs_id[i]]\n",
    "\n",
    "    \n",
    "    # identify the DETECTED period closest to the OBSERVED period\n",
    "    loc = np.argmin(np.abs(det_per_in_this_system - obs_per[i]))\n",
    "\n",
    "    obs_rad[i] = det_rad_in_this_system[loc]\n",
    "    obs_mass[i] = det_mass_in_this_system[loc]\n",
    "    \n",
    "    \n",
    "# add radius and mass to the OBSERVED planets catalogue\n",
    "obs['radius'] = obs_rad\n",
    "obs['mass'] = obs_mass"
   ]
  },
  {
   "cell_type": "code",
   "execution_count": null,
   "metadata": {},
   "outputs": [],
   "source": []
  },
  {
   "cell_type": "code",
   "execution_count": null,
   "metadata": {},
   "outputs": [],
   "source": []
  },
  {
   "cell_type": "code",
   "execution_count": null,
   "metadata": {},
   "outputs": [],
   "source": []
  },
  {
   "cell_type": "code",
   "execution_count": null,
   "metadata": {},
   "outputs": [],
   "source": []
  },
  {
   "cell_type": "code",
   "execution_count": 16,
   "metadata": {},
   "outputs": [],
   "source": [
    "# count the OBSERVED planets in each system\n",
    "obs_uniquesys = np.unique(obs['target_id'])\n",
    "\n",
    "for us in obs_uniquesys:\n",
    "    obs['npl'][obs['target_id']==us] = int(np.sum(obs['target_id']==us))"
   ]
  },
  {
   "cell_type": "code",
   "execution_count": 17,
   "metadata": {},
   "outputs": [
    {
     "name": "stdout",
     "output_type": "stream",
     "text": [
      "6682 planets in UNDETECTED catalogue\n"
     ]
    }
   ],
   "source": [
    "print('%d planets in UNDETECTED catalogue' %len(und['target_id']))\n",
    "\n",
    "WRITENEW = True\n",
    "if WRITENEW:\n",
    "    filepath = MAINPATH + 'catalogues/syssim_undetected_planets_with_masses.csv'\n",
    "\n",
    "    with open(filepath, \"w\") as outfile:\n",
    "        writer = csv.writer(outfile)\n",
    "        writer.writerow(und.keys())\n",
    "        writer.writerows(zip(*und.values()))"
   ]
  },
  {
   "cell_type": "code",
   "execution_count": 18,
   "metadata": {},
   "outputs": [
    {
     "name": "stdout",
     "output_type": "stream",
     "text": [
      "2183 planets in OBSERVED catalogue\n"
     ]
    }
   ],
   "source": [
    "print('%d planets in OBSERVED catalogue' %len(obs['target_id']))\n",
    "\n",
    "WRITENEW = True\n",
    "if WRITENEW:\n",
    "    filepath = MAINPATH + 'catalogues/syssim_observed_planets_with_masses.csv'\n",
    "\n",
    "    with open(filepath, \"w\") as outfile:\n",
    "        writer = csv.writer(outfile)\n",
    "        writer.writerow(obs.keys())\n",
    "        writer.writerows(zip(*obs.values()))"
   ]
  },
  {
   "cell_type": "code",
   "execution_count": null,
   "metadata": {},
   "outputs": [],
   "source": []
  },
  {
   "cell_type": "code",
   "execution_count": null,
   "metadata": {},
   "outputs": [],
   "source": []
  },
  {
   "cell_type": "code",
   "execution_count": null,
   "metadata": {},
   "outputs": [],
   "source": []
  },
  {
   "cell_type": "code",
   "execution_count": null,
   "metadata": {},
   "outputs": [],
   "source": []
  }
 ],
 "metadata": {
  "kernelspec": {
   "display_name": "Python 3",
   "language": "python",
   "name": "python3"
  },
  "language_info": {
   "codemirror_mode": {
    "name": "ipython",
    "version": 3
   },
   "file_extension": ".py",
   "mimetype": "text/x-python",
   "name": "python",
   "nbconvert_exporter": "python",
   "pygments_lexer": "ipython3",
   "version": "3.7.3"
  }
 },
 "nbformat": 4,
 "nbformat_minor": 2
}
