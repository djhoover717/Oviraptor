{
 "cells": [
  {
   "cell_type": "code",
   "execution_count": 1,
   "metadata": {},
   "outputs": [],
   "source": [
    "import archinfo\n",
    "import numpy as np\n",
    "\n",
    "MJUPITER = 1.898e27\n",
    "MEARTH = 5.972e24"
   ]
  },
  {
   "cell_type": "code",
   "execution_count": 2,
   "metadata": {},
   "outputs": [
    {
     "name": "stdout",
     "output_type": "stream",
     "text": [
      "18.164657098845826\n"
     ]
    }
   ],
   "source": [
    "periods = np.array([5.39792, 15.299, 24.451])            #in days\n",
    "masses = np.array([8.68, 7.86, 6.44])                    #in Earth masses\n",
    "mstar = 0.81                                             #in solar masses\n",
    "\n",
    "\"\"\"\n",
    "Data taken from the HD 7924 system, which has 3 planets.\n",
    "Used https://en.wikipedia.org/wiki/HD_7924 for reference.\n",
    "\"\"\"\n",
    "\n",
    "S = archinfo.S(periods, masses, mstar)\n",
    "print(S)"
   ]
  },
  {
   "cell_type": "code",
   "execution_count": 3,
   "metadata": {},
   "outputs": [
    {
     "name": "stdout",
     "output_type": "stream",
     "text": [
      "18.06796270464873\n"
     ]
    }
   ],
   "source": [
    "periods = np.array([9.3743, 962, 2172])                  #in days\n",
    "masses = np.array([0.0238*MJUPITER/MEARTH, 0.64*MJUPITER/MEARTH, 0.54*MJUPITER/MEARTH])     #in Earth masses\n",
    "mstar = 0.86                                             #in solar masses\n",
    "\n",
    "\"\"\"\n",
    "Data taken from the HD 181433 system, which has 3 planets.\n",
    "Used https://en.wikipedia.org/wiki/HD_181433 for reference.\n",
    "\"\"\"\n",
    "\n",
    "S = archinfo.S(periods, masses, mstar)\n",
    "print(S)"
   ]
  },
  {
   "cell_type": "code",
   "execution_count": null,
   "metadata": {},
   "outputs": [],
   "source": []
  }
 ],
 "metadata": {
  "kernelspec": {
   "display_name": "Python 3",
   "language": "python",
   "name": "python3"
  },
  "language_info": {
   "codemirror_mode": {
    "name": "ipython",
    "version": 3
   },
   "file_extension": ".py",
   "mimetype": "text/x-python",
   "name": "python",
   "nbconvert_exporter": "python",
   "pygments_lexer": "ipython3",
   "version": "3.6.8"
  }
 },
 "nbformat": 4,
 "nbformat_minor": 4
}
