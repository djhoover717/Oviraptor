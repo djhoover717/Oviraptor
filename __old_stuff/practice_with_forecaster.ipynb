{
 "cells": [
  {
   "cell_type": "code",
   "execution_count": null,
   "metadata": {},
   "outputs": [],
   "source": [
    "'''\n",
    "Testing with Chen and Kipping's mass forecaster to be used to probabilistically draw transit masses and radii.\n",
    "'''"
   ]
  },
  {
   "cell_type": "code",
   "execution_count": 27,
   "metadata": {},
   "outputs": [],
   "source": [
    "import numpy as np\n",
    "import matplotlib.pyplot as plt\n",
    "\n",
    "import sys\n",
    "sys.path.insert(0, \"/Users/research/projects/oviraptor/forecaster/\")\n",
    "\n",
    "import mr_forecast as forecast"
   ]
  },
  {
   "cell_type": "code",
   "execution_count": 36,
   "metadata": {},
   "outputs": [
    {
     "data": {
      "text/plain": [
       "(array([567., 330.,  70.,  20.,   8.,   1.,   1.,   2.,   0.,   1.]),\n",
       " array([ 1.2055999 ,  5.44606503,  9.68653017, 13.9269953 , 18.16746043,\n",
       "        22.40792557, 26.6483907 , 30.88885583, 35.12932097, 39.3697861 ,\n",
       "        43.61025123]),\n",
       " <a list of 10 Patch objects>)"
      ]
     },
     "execution_count": 36,
     "metadata": {},
     "output_type": "execute_result"
    },
    {
     "data": {
      "image/png": "[encoded data removed]",
      "text/plain": [
       "<Figure size 432x288 with 1 Axes>"
      ]
     },
     "metadata": {
      "needs_background": "light"
     },
     "output_type": "display_data"
    }
   ],
   "source": [
    "dummy = []\n",
    "\n",
    "for i in range(1000):\n",
    "    x = forecast.Rstat2M(mean=2.0, std=0.1, sample_size=1)\n",
    "    \n",
    "    if x is not None:\n",
    "        dummy.append(x[0])\n",
    "    \n",
    "plt.figure()\n",
    "plt.hist(dummy)"
   ]
  },
  {
   "cell_type": "code",
   "execution_count": null,
   "metadata": {},
   "outputs": [],
   "source": []
  },
  {
   "cell_type": "code",
   "execution_count": null,
   "metadata": {},
   "outputs": [],
   "source": []
  }
 ],
 "metadata": {
  "kernelspec": {
   "display_name": "Python 3",
   "language": "python",
   "name": "python3"
  },
  "language_info": {
   "codemirror_mode": {
    "name": "ipython",
    "version": 3
   },
   "file_extension": ".py",
   "mimetype": "text/x-python",
   "name": "python",
   "nbconvert_exporter": "python",
   "pygments_lexer": "ipython3",
   "version": "3.6.8"
  }
 },
 "nbformat": 4,
 "nbformat_minor": 2
}
