{
 "cells": [
  {
   "cell_type": "code",
   "execution_count": 1,
   "metadata": {
    "scrolled": true
   },
   "outputs": [
    {
     "data": {
      "text/plain": [
       "'\\nExtracts RV data for the table in the paper.\\nOutputs the table\\n'"
      ]
     },
     "execution_count": 1,
     "metadata": {},
     "output_type": "execute_result"
    }
   ],
   "source": [
    "'''\n",
    "Extracts RV data for the table in the paper.\n",
    "Outputs the table\n",
    "'''"
   ]
  },
  {
   "cell_type": "code",
   "execution_count": 4,
   "metadata": {
    "scrolled": true
   },
   "outputs": [],
   "source": [
    "import numpy as np\n",
    "import csv\n",
    "#from tabulate import tabulate\n",
    "#from texttable import Texttable\n",
    "\n",
    "MJUPITER = 1.898e27     #all in SI units\n",
    "MEARTH = 5.972e24"
   ]
  },
  {
   "cell_type": "code",
   "execution_count": 5,
   "metadata": {
    "scrolled": true
   },
   "outputs": [],
   "source": [
    "class System:\n",
    "    def __init__(self, sysid=None):\n",
    "        \n",
    "        self.sysid = sysid"
   ]
  },
  {
   "cell_type": "code",
   "execution_count": 6,
   "metadata": {
    "scrolled": true
   },
   "outputs": [],
   "source": [
    "#my_file = 'C:/Users/djhoo/Documents/Oviraptor-master/catalogues/oviraptor_crossmatch_catalog.csv'  #reading in file\n",
    "my_file = \"/Users/research/projects/oviraptor/Catalogs/old_oviraptor_crossmatch_catalog.csv\"\n",
    "\n",
    "\n",
    "raw_data = []\n",
    "with open(my_file) as infile:\n",
    "    reader = csv.reader(infile)\n",
    "    \n",
    "    for row in reader:\n",
    "        raw_data.append(row)\n",
    "        \n",
    "KEYS = raw_data[0]\n",
    "VALUES = raw_data[1:]\n",
    "\n",
    "def get_key(keyname, keys = KEYS, values = VALUES):\n",
    "    i = keys.index(keyname)\n",
    "    arr = []\n",
    "    for row in values:\n",
    "        arr.append(row[i])\n",
    "    return np.array(arr)"
   ]
  },
  {
   "cell_type": "code",
   "execution_count": 7,
   "metadata": {
    "scrolled": true
   },
   "outputs": [],
   "source": [
    "d = {}\n",
    "d['starname'] = get_key('hostname')\n",
    "d['rs'] = get_key('st_rad')\n",
    "d['rs_lower'] = get_key('st_raderr2')\n",
    "d['rs_upper'] = get_key('st_raderr1')\n",
    "d['ms'] = get_key('st_mass')\n",
    "d['ms_lower'] = get_key('st_masserr2')\n",
    "d['ms_upper'] = get_key('st_masserr1')\n",
    "d['disc_method'] = get_key('discoverymethod')\n",
    "d['mag'] = get_key('sy_vmag')\n",
    "d['temp'] = get_key('st_teff')\n",
    "d['ref'] = get_key('st_refname')\n",
    "d['instrument'] = get_key('disc_facility')\n",
    "d['rp'] = get_key('pl_rade')\n",
    "d['mp'] = get_key('pl_bmasse')\n",
    "d['p'] = get_key('pl_orbper')"
   ]
  },
  {
   "cell_type": "code",
   "execution_count": null,
   "metadata": {},
   "outputs": [],
   "source": []
  },
  {
   "cell_type": "code",
   "execution_count": null,
   "metadata": {},
   "outputs": [],
   "source": []
  },
  {
   "cell_type": "code",
   "execution_count": null,
   "metadata": {},
   "outputs": [],
   "source": []
  },
  {
   "cell_type": "code",
   "execution_count": 8,
   "metadata": {
    "scrolled": true
   },
   "outputs": [
    {
     "name": "stdout",
     "output_type": "stream",
     "text": [
      "total number of queried objects = 4107\n"
     ]
    }
   ],
   "source": [
    "KEY0 = 'starname'\n",
    "\n",
    "def is_number(s):\n",
    "    '''\n",
    "    checks if input string s is a number\n",
    "    or if every entry in a list s is a number\n",
    "    '''\n",
    "    if type(s) != list:\n",
    "        try:\n",
    "            float(s)\n",
    "            return True\n",
    "        except ValueError:\n",
    "            return False\n",
    "    else:\n",
    "        for part in s:\n",
    "            status = True\n",
    "            try:\n",
    "                float(part)\n",
    "                status = True\n",
    "            except ValueError:\n",
    "                status = False\n",
    "        return status\n",
    "\n",
    "def convert_to_arrays(d):\n",
    "    keys = d.keys()\n",
    "    dnew = {}\n",
    "    \n",
    "    for k in keys:\n",
    "        dnew[k] = np.asarray(d[k])\n",
    "        \n",
    "    return dnew\n",
    "\n",
    "d = convert_to_arrays(d)\n",
    "print('total number of queried objects =', len(d[KEY0]))\n",
    "\n",
    "for key in d.keys():\n",
    "    if is_number(d[key][0]):\n",
    "        for i in range(len(d[key])):\n",
    "            if d[key][i] == '':\n",
    "                d[key][i] = 0\n",
    "            \n",
    "\n",
    "def convert_floats(d):\n",
    "    '''\n",
    "    converts numerical arrays from strings to floats\n",
    "    '''\n",
    "    keys = d.keys()\n",
    "    dnew = {}\n",
    "    \n",
    "    for k in keys:\n",
    "        if is_number(d[k][0]):\n",
    "            dnew[k] = np.asarray(d[k],dtype='float')\n",
    "        else:\n",
    "            dnew[k] = np.asarray(d[k])\n",
    "    \n",
    "    return dnew\n",
    "\n",
    "\n",
    "# CONVERT STRINGS TO FLOATS (where applicable)\n",
    "d = convert_floats(d)"
   ]
  },
  {
   "cell_type": "code",
   "execution_count": 9,
   "metadata": {
    "scrolled": true
   },
   "outputs": [
    {
     "name": "stderr",
     "output_type": "stream",
     "text": [
      "/Users/research/anaconda3/lib/python3.7/site-packages/ipykernel_launcher.py:70: FutureWarning: elementwise comparison failed; returning scalar instead, but in the future will perform elementwise comparison\n",
      "/Users/research/anaconda3/lib/python3.7/site-packages/ipykernel_launcher.py:71: FutureWarning: elementwise comparison failed; returning scalar instead, but in the future will perform elementwise comparison\n",
      "/Users/research/anaconda3/lib/python3.7/site-packages/ipykernel_launcher.py:72: FutureWarning: elementwise comparison failed; returning scalar instead, but in the future will perform elementwise comparison\n"
     ]
    }
   ],
   "source": [
    "def legitimate_periods(periods, detection_method, max_period):\n",
    "    '''\n",
    "    This function is used to eliminate planets in RV systems with too long periods.\n",
    "    This is meant for RV planets, so planets detected by any other methods are ignored.\n",
    "    '''\n",
    "    entries = []\n",
    "    for i in range(len(periods)):\n",
    "        if periods[i] <= max_period and detection_method == 'Radial Velocity':\n",
    "            entries.append(True)\n",
    "        elif detection_method == 'Transit' or detection_method == 'Mixed':\n",
    "            entries.append(True)\n",
    "        else:\n",
    "            entries.append(False)\n",
    "    return np.array(entries)\n",
    "\n",
    "def legitimate_radii(radii, detection_method, min_radius):\n",
    "    '''\n",
    "    This function is used to eliminate planets in transit systems with too high radii.\n",
    "    This is meant for transit planets, so planets detected by any other methods are ignored.\n",
    "    '''\n",
    "    entries = []\n",
    "    for i in range(len(radii)):\n",
    "        if radii[i] >= min_radius and detection_method == 'Transit':\n",
    "            entries.append(True)\n",
    "        elif detection_method == 'Radial Velocity' or detection_method == 'Mixed':\n",
    "            entries.append(True)\n",
    "        else:\n",
    "            entries.append(False)\n",
    "    return np.array(entries)\n",
    "\n",
    "max_period = 1460                                                       #length of time used to create DR25 catalogue\n",
    "min_radius = min(d['rp'][d['disc_method'] == 'Radial Velocity'])        #minimum radius of an RV planet\n",
    "\n",
    "uniquesys = np.unique(d['starname'])\n",
    "systems = []\n",
    "for us in uniquesys:\n",
    "    s = System()                                               #I assume that each parameter is the same for all entries\n",
    "    \n",
    "    s.sysid = us\n",
    "    s.starname = d['starname'][d['starname']==us][0]\n",
    "    \n",
    "    s.Mstar = d['ms'][d['starname']==us][0]\n",
    "    s.Mstar_lower = d['ms_lower'][d['starname']==us][0]\n",
    "    s.Mstar_upper = d['ms_upper'][d['starname']==us][0]\n",
    "    \n",
    "    s.Rstar = d['rs'][d['starname']==us][0]\n",
    "    s.Rstar_lower = d['rs_lower'][d['starname']==us][0]\n",
    "    s.Rstar_upper = d['rs_upper'][d['starname']==us][0]\n",
    "    \n",
    "    s.detection_method = d['disc_method'][d['starname']==us][0]\n",
    "    s.mag = d['mag'][d['starname']==us][0]\n",
    "    s.temp = d['temp'][d['starname']==us][0]\n",
    "    s.ref = d['ref'][d['starname']==us][0]\n",
    "    s.instrument = d['instrument'][d['starname']==us][0]\n",
    "    \n",
    "    s.masses = d['mp'][d['starname']==us]\n",
    "    s.radii = d['rp'][d['starname']==us]\n",
    "    s.periods = d['p'][d['starname']==us]\n",
    "    \n",
    "    legitimate_entries = legitimate_periods(s.periods, s.detection_method, max_period)\n",
    "    s.masses = s.masses[legitimate_entries == True]\n",
    "    s.radii = s.radii[legitimate_entries == True]\n",
    "    s.periods = s.periods[legitimate_entries == True]\n",
    "    \n",
    "    legitimate_entries = legitimate_radii(s.radii, s.detection_method, min_radius)\n",
    "    s.masses = s.masses[legitimate_entries == True]\n",
    "    s.radii = s.radii[legitimate_entries == True]\n",
    "    s.periods = s.periods[legitimate_entries == True]\n",
    "    \n",
    "    s.masses = s.masses[s.radii != 0]\n",
    "    s.periods = s.periods[s.radii != 0]\n",
    "    s.radii = s.radii[s.radii != 0]\n",
    "    \n",
    "    s.periods = s.periods[s.masses*MEARTH/MJUPITER < 13]\n",
    "    s.radii = s.radii[s.masses*MEARTH/MJUPITER < 13]\n",
    "    s.masses = s.masses[s.masses*MEARTH/MJUPITER < 13]\n",
    "    \n",
    "    if len(s.masses) >= 3 and s.detection_method == 'Radial Velocity':\n",
    "        systems.append(s)"
   ]
  },
  {
   "cell_type": "code",
   "execution_count": null,
   "metadata": {
    "scrolled": true
   },
   "outputs": [],
   "source": [
    "print(len(systems))\n",
    "\n",
    "# Generates Latex table\n",
    "# Need to implement formatting the reference\n",
    "\n",
    "rows = []\n",
    "for s in systems:\n",
    "    row = [0]*11\n",
    "    row[0] = s.starname\n",
    "    row[1] = s.Mstar\n",
    "    row[2] = s.Mstar_upper\n",
    "    row[3] = s.Mstar_lower\n",
    "    row[4] = s.Rstar\n",
    "    row[5] = s.Rstar_upper\n",
    "    row[6] = s.Rstar_lower\n",
    "    row[7] = s.mag\n",
    "    row[8] = s.temp\n",
    "    row[9] = s.instrument\n",
    "    row[10] = s.ref[s.ref.index('r=')+2:s.ref.index('href')]\n",
    "    rows.append(row)"
   ]
  },
  {
   "cell_type": "code",
   "execution_count": null,
   "metadata": {
    "scrolled": false
   },
   "outputs": [],
   "source": [
    "print('\\nTabulate Latex:')\n",
    "print(tabulate(rows, headers='firstrow', tablefmt='latex'))"
   ]
  },
  {
   "cell_type": "code",
   "execution_count": null,
   "metadata": {},
   "outputs": [],
   "source": []
  }
 ],
 "metadata": {
  "kernelspec": {
   "display_name": "Python 3",
   "language": "python",
   "name": "python3"
  },
  "language_info": {
   "codemirror_mode": {
    "name": "ipython",
    "version": 3
   },
   "file_extension": ".py",
   "mimetype": "text/x-python",
   "name": "python",
   "nbconvert_exporter": "python",
   "pygments_lexer": "ipython3",
   "version": "3.7.3"
  }
 },
 "nbformat": 4,
 "nbformat_minor": 4
}
