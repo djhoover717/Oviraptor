{
 "cells": [
  {
   "cell_type": "markdown",
   "metadata": {},
   "source": [
    "# Fix the most important $(N \\geq 3)$ RV systems by hand"
   ]
  },
  {
   "cell_type": "code",
   "execution_count": 1,
   "metadata": {},
   "outputs": [],
   "source": [
    "import numpy as np\n",
    "import csv\n",
    "import matplotlib.pyplot as plt\n",
    "from scipy import stats\n",
    "from scipy.optimize import newton\n",
    "\n",
    "from oviraptor.utils import *\n",
    "from oviraptor.constants import *"
   ]
  },
  {
   "cell_type": "code",
   "execution_count": 2,
   "metadata": {},
   "outputs": [],
   "source": [
    "#MAINPATH = 'C:/Users/djhoo/Documents/Oviraptor-master/'\n",
    "MAINPATH = \"/Users/research/projects/oviraptor/\"\n",
    "\n",
    "ps_file = MAINPATH + \"Catalogs/exoarchive_ps_rv_multis_20210531.csv\"\n",
    "rv_multi_file = MAINPATH + \"Catalogs/rv_multis_for_mast.csv\"\n",
    "oviraptor_file = MAINPATH + \"Catalogs/oviraptor_A_cleaned_and_crossmatched.csv\""
   ]
  },
  {
   "cell_type": "markdown",
   "metadata": {},
   "source": [
    "# Read in the RV planetary systems table"
   ]
  },
  {
   "cell_type": "code",
   "execution_count": 3,
   "metadata": {},
   "outputs": [],
   "source": [
    "# first read in the list of high-multiplicity RV systems\n",
    "keys, vals = read_csv_file(rv_multi_file, k_index=1, v_index=2)\n",
    "\n",
    "targets = np.array(get_csv_data(\"TARGET\", keys, vals))"
   ]
  },
  {
   "cell_type": "code",
   "execution_count": 4,
   "metadata": {},
   "outputs": [
    {
     "name": "stdout",
     "output_type": "stream",
     "text": [
      "Loaded planetary system data for 82 systems\n"
     ]
    }
   ],
   "source": [
    "# here's the planetary system data from the archive\n",
    "keys, vals = read_csv_file(ps_file, k_index=0, v_index=1)\n",
    "\n",
    "data = {}\n",
    "for k in keys:\n",
    "    data[k] = np.array(get_csv_data(k, keys, vals))\n",
    "    \n",
    "\n",
    "# grab a reference key\n",
    "k0 = list(data.keys())[0]\n",
    "\n",
    "print(\"Loaded planetary system data for {0} systems\".format(len(np.unique(data[\"hostname\"]))))"
   ]
  },
  {
   "cell_type": "code",
   "execution_count": 5,
   "metadata": {},
   "outputs": [],
   "source": [
    "# eliminate irrelevant systems (archive filters were set broadly)\n",
    "keep = np.isin(data[\"hostname\"], targets)\n",
    "\n",
    "for k in data.keys():\n",
    "    data[k] = data[k][keep]"
   ]
  },
  {
   "cell_type": "code",
   "execution_count": 6,
   "metadata": {},
   "outputs": [
    {
     "data": {
      "text/plain": [
       "dict_keys(['hostname', 'default_flag', 'sy_snum', 'sy_pnum', 'discoverymethod', 'rv_flag', 'soltype', 'pl_controv_flag', 'st_refname', 'st_spectype', 'st_teff', 'st_tefferr1', 'st_tefferr2', 'st_tefflim', 'st_rad', 'st_raderr1', 'st_raderr2', 'st_radlim', 'st_mass', 'st_masserr1', 'st_masserr2', 'st_masslim', 'st_met', 'st_meterr1', 'st_meterr2', 'st_metlim', 'st_metratio', 'st_logg', 'st_loggerr1', 'st_loggerr2', 'st_logglim', 'sy_refname', 'rastr', 'ra', 'decstr', 'dec', 'sy_vmag', 'sy_vmagerr1', 'sy_vmagerr2', 'sy_kmag', 'sy_kmagerr1', 'sy_kmagerr2', 'sy_gaiamag', 'sy_gaiamagerr1', 'sy_gaiamagerr2', 'rowupdate', 'pl_pubdate', 'releasedate'])"
      ]
     },
     "execution_count": 6,
     "metadata": {},
     "output_type": "execute_result"
    }
   ],
   "source": [
    "data.keys()"
   ]
  },
  {
   "cell_type": "markdown",
   "metadata": {},
   "source": [
    "# Select the most precise $R_{\\star}, M_{\\star}, \\ T_{\\rm eff}$ values"
   ]
  },
  {
   "cell_type": "code",
   "execution_count": 7,
   "metadata": {},
   "outputs": [],
   "source": [
    "rv = dict.fromkeys(['hostname',\n",
    "                    'st_teff', 'st_tefferr1', 'st_tefferr2', 'st_teff_ref', \n",
    "                    'st_rad', 'st_raderr1', 'st_raderr2',  'st_rad_ref', \n",
    "                    'st_mass', 'st_masserr1', 'st_masserr2',  'st_mass_ref'])\n",
    "\n",
    "for k in rv.keys():\n",
    "    rv[k] = []"
   ]
  },
  {
   "cell_type": "code",
   "execution_count": 8,
   "metadata": {},
   "outputs": [],
   "source": [
    "for i, star in enumerate(np.unique(data[\"hostname\"])):\n",
    "    rv[\"hostname\"].append(star)\n",
    "    \n",
    "    use = data[\"hostname\"] == star\n",
    "    refs = data[\"st_refname\"][use]\n",
    "    \n",
    "    # stars with only one reference are easy\n",
    "    # this step may select empty values - this will be fixed later\n",
    "    if len(np.unique(refs)) == 1:\n",
    "        for k in rv.keys():\n",
    "            if (k != \"hostname\")*(k[-3:] != \"ref\"):\n",
    "                rv[k].append(data[k][use][0])\n",
    "                \n",
    "        rv[\"st_teff_ref\"].append(data[\"st_refname\"][use][0])    \n",
    "        rv[\"st_rad_ref\"].append(data[\"st_refname\"][use][0])\n",
    "        rv[\"st_mass_ref\"].append(data[\"st_refname\"][use][0])\n",
    "        \n",
    "    \n",
    "    # with multiple references, use the most precise value\n",
    "    else:\n",
    "        \n",
    "        # MASS\n",
    "        M = {}\n",
    "        M[\"mean\"] = data[\"st_mass\"][use]\n",
    "        M[\"err1\"] = data[\"st_masserr1\"][use]\n",
    "        M[\"err2\"] = data[\"st_masserr2\"][use]\n",
    "    \n",
    "        for k in M.keys():\n",
    "            M[k][M[k] == \"\"] = \"nan\"\n",
    "            M[k] = np.asarray(M[k], dtype=\"float\")\n",
    "            \n",
    "        mesq = M[\"err1\"]**2 + M[\"err2\"]**2\n",
    "        \n",
    "        if np.all(np.isnan(mesq)):\n",
    "            rv[\"st_mass\"].append(\"nan\")\n",
    "            rv[\"st_masserr1\"].append(\"nan\")\n",
    "            rv[\"st_masserr2\"].append(\"nan\")\n",
    "            rv[\"st_mass_ref\"].append(\"\")\n",
    "            \n",
    "        else:\n",
    "            loc = np.nanargmin(mesq)\n",
    "    \n",
    "            rv[\"st_mass\"].append(data[\"st_mass\"][use][loc])\n",
    "            rv[\"st_masserr1\"].append(data[\"st_masserr1\"][use][loc])\n",
    "            rv[\"st_masserr2\"].append(data[\"st_masserr2\"][use][loc])\n",
    "            rv[\"st_mass_ref\"].append(data[\"st_refname\"][use][loc])\n",
    "        \n",
    "        \n",
    "        # RADIUS\n",
    "        R = {}\n",
    "        R[\"mean\"] = data[\"st_rad\"][use]\n",
    "        R[\"err1\"] = data[\"st_raderr1\"][use]\n",
    "        R[\"err2\"] = data[\"st_raderr2\"][use]\n",
    "    \n",
    "        for k in R.keys():\n",
    "            R[k][R[k] == \"\"] = \"nan\"\n",
    "            R[k] = np.asarray(R[k], dtype=\"float\")\n",
    "            \n",
    "        resq = R[\"err1\"]**2 + R[\"err2\"]**2\n",
    "            \n",
    "        if np.all(np.isnan(resq)):\n",
    "            rv[\"st_rad\"].append(\"nan\")\n",
    "            rv[\"st_raderr1\"].append(\"nan\")\n",
    "            rv[\"st_raderr2\"].append(\"nan\")\n",
    "            rv[\"st_rad_ref\"].append(\"\")\n",
    "            \n",
    "        else:\n",
    "            loc = np.nanargmin(resq)\n",
    "\n",
    "            rv[\"st_rad\"].append(data[\"st_rad\"][use][loc])\n",
    "            rv[\"st_raderr1\"].append(data[\"st_raderr1\"][use][loc])\n",
    "            rv[\"st_raderr2\"].append(data[\"st_raderr2\"][use][loc])\n",
    "            rv[\"st_rad_ref\"].append(data[\"st_refname\"][use][loc])\n",
    "            \n",
    "            \n",
    "        # TEMPERATURE\n",
    "        T = {}\n",
    "        T[\"mean\"] = data[\"st_teff\"][use]\n",
    "        T[\"err1\"] = data[\"st_tefferr1\"][use]\n",
    "        T[\"err2\"] = data[\"st_tefferr2\"][use]\n",
    "    \n",
    "        for k in T.keys():\n",
    "            T[k][T[k] == \"\"] = \"nan\"\n",
    "            T[k] = np.asarray(T[k], dtype=\"float\")\n",
    "            \n",
    "        tesq = T[\"err1\"]**2 + T[\"err2\"]**2\n",
    "            \n",
    "        if np.all(np.isnan(resq)):\n",
    "            rv[\"st_teff\"].append(\"nan\")\n",
    "            rv[\"st_tefferr1\"].append(\"nan\")\n",
    "            rv[\"st_tefferr2\"].append(\"nan\")\n",
    "            rv[\"st_teff_ref\"].append(\"\")\n",
    "            \n",
    "        else:\n",
    "            loc = np.nanargmin(tesq)\n",
    "\n",
    "            rv[\"st_teff\"].append(data[\"st_teff\"][use][loc])\n",
    "            rv[\"st_tefferr1\"].append(data[\"st_tefferr1\"][use][loc])\n",
    "            rv[\"st_tefferr2\"].append(data[\"st_tefferr2\"][use][loc])\n",
    "            rv[\"st_teff_ref\"].append(data[\"st_refname\"][use][loc])"
   ]
  },
  {
   "cell_type": "markdown",
   "metadata": {},
   "source": [
    "# Check for missing data"
   ]
  },
  {
   "cell_type": "code",
   "execution_count": 9,
   "metadata": {},
   "outputs": [
    {
     "name": "stdout",
     "output_type": "stream",
     "text": [
      "\n",
      "The following systems are missing MASS measurements:\n",
      "['GJ 163' 'GJ 180' 'GJ 3138' 'GJ 3293' 'HD 20781' 'HD 27894' 'HD 31527'\n",
      " 'Wolf 1061']\n",
      "\n",
      "The following systems are missing RADIUS measurements:\n",
      "['GJ 163' 'GJ 180' 'HD 20781' 'HD 20794' 'HD 27894' 'HD 31527' 'HD 37124'\n",
      " 'HD 69830' 'tau Cet']\n",
      "\n",
      "The following systems are missing TEMPERATURE measurements:\n",
      "['GJ 163' 'GJ 180' 'HD 20794' 'HD 27894' 'HD 37124' 'tau Cet']\n"
     ]
    }
   ],
   "source": [
    "for k in rv.keys():\n",
    "    rv[k] = np.asarray(rv[k])\n",
    "\n",
    "\n",
    "bad = {}\n",
    "bad[\"M\"] = np.zeros(len(rv[\"hostname\"]), dtype=\"bool\")\n",
    "bad[\"R\"] = np.zeros(len(rv[\"hostname\"]), dtype=\"bool\")\n",
    "bad[\"T\"] = np.zeros(len(rv[\"hostname\"]), dtype=\"bool\")\n",
    "\n",
    "for k in rv.keys():\n",
    "    if k[:7] == \"st_mass\":\n",
    "        bad[\"M\"] += rv[k] == \"\"\n",
    "        bad[\"M\"] += rv[k] == \"nan\"\n",
    "    \n",
    "    elif k[:6] == \"st_rad\":\n",
    "        bad[\"R\"] += rv[k] == \"\"\n",
    "        bad[\"R\"] += rv[k] == \"nan\"\n",
    "    \n",
    "    if k[:7] == \"st_teff\":\n",
    "        bad[\"T\"] += rv[k] == \"\"\n",
    "        bad[\"T\"] += rv[k] == \"nan\"\n",
    "        \n",
    "\n",
    "        \n",
    "print(\"\\nThe following systems are missing MASS measurements:\")\n",
    "print(np.unique(rv[\"hostname\"][bad[\"M\"]]))\n",
    "\n",
    "print(\"\\nThe following systems are missing RADIUS measurements:\")\n",
    "print(np.unique(rv[\"hostname\"][bad[\"R\"]]))\n",
    "\n",
    "print(\"\\nThe following systems are missing TEMPERATURE measurements:\")\n",
    "print(np.unique(rv[\"hostname\"][bad[\"T\"]]))"
   ]
  },
  {
   "cell_type": "code",
   "execution_count": 10,
   "metadata": {},
   "outputs": [
    {
     "name": "stdout",
     "output_type": "stream",
     "text": [
      "The following systems are missing data and should be manually fixed:\n",
      "\n",
      "['GJ 163' 'GJ 180' 'GJ 3138' 'GJ 3293' 'HD 20781' 'HD 20794' 'HD 27894'\n",
      " 'HD 31527' 'HD 37124' 'HD 69830' 'Wolf 1061' 'tau Cet']\n"
     ]
    }
   ],
   "source": [
    "print(\"The following systems are missing data and should be manually fixed:\\n\")\n",
    "print(rv[\"hostname\"][bad[\"M\"] + bad[\"R\"] + bad[\"T\"]])"
   ]
  },
  {
   "cell_type": "code",
   "execution_count": 11,
   "metadata": {},
   "outputs": [],
   "source": [
    "                    # Name        M_mean    M_err1   M_err2   M_ref\n",
    "fix_mass = np.array([['GJ 163',     0.40,     0.02,   -0.02,  \"Tuomi+ 2013\"],\n",
    "                     ['GJ 180',     0.41,     0.02,   -0.02,  \"Schweitzer+ 2019\"],\n",
    "                     ['GJ 3138',    0.68,     0.02,   -0.02,  \"Astudillo-Defru+ 2017\"],\n",
    "                     ['GJ 3293',    0.42,     0.04,   -0.04,  \"Astudillo-Defru+ 2017\"],\n",
    "                     ['HD 20781',   0.70,     0.05,   -0.05,  \"Udry+ 2019\"],\n",
    "                     ['HD 20794',   0.81,     0.02,   -0.01,  \"Feng+ 2017\"],\n",
    "                     ['HD 27894',   0.86,     0.06,   -0.06,  \"Trevisan+ 2011\"],\n",
    "                     ['HD 31527',   0.96,     0.04,   -0.04,  \"Udry+ 2019\"],\n",
    "                     ['HD 37124',   0.80,     0.01,   -0.01,  \"Bonfanti+ 2015\"],\n",
    "                     ['HD 69830',   0.86,     0.04,   -0.04,  \"Tanner+ 2015\"],\n",
    "                     ['Wolf 1061',  0.29,     0.01,   -0.01,  \"Astudillo-Defru+ 2017\"],\n",
    "                     ['tau Cet',    0.78,     0.01,   -0.01,  \"Feng+ 2017\"]])"
   ]
  },
  {
   "cell_type": "code",
   "execution_count": 12,
   "metadata": {},
   "outputs": [],
   "source": [
    "                   # Name        R_mean    R_err1   R_err2   R_ref\n",
    "fix_rad = np.array([['GJ 163',     0.41,     0.01,   -0.01,  \"TICv8\"],\n",
    "                    ['GJ 180',     0.41,     0.01,   -0.01,  \"Schweitzer+ 2019\"],   \n",
    "                    ['GJ 3138',    0.50,     0.03,   -0.03,  \"Astudillo-Defru+ 2017\"],\n",
    "                    ['GJ 3293',    0.40,     0.03,   -0.03,  \"Astudillo-Defru+ 2017\"],  \n",
    "                    ['HD 20781',   0.87,     0.05,   -0.05,  \"TICv8\"],\n",
    "                    ['HD 20794',   0.90,     0.03,   -0.03,  \"Bernkopf+ 2012\"],  \n",
    "                    ['HD 27894',   0.85,     0.05,   -0.05,  \"Trevisan+ 2011\"],\n",
    "                    ['HD 31527',   1.08,     0.04,   -0.04,  \"TICv8\"],\n",
    "                    ['HD 37124',   0.92,     0.02,   -0.02,  \"Bonfanti+ 2015\"], \n",
    "                    ['HD 69830',   0.91,     0.02,   -0.02,  \"Tanner+ 2015\"],\n",
    "                    ['Wolf 1061',  0.31,     0.03,   -0.03,  \"Astudillo-Defru+ 2017\"],\n",
    "                    ['tau Cet',    0.79,     0.01,   -0.01,  \"Teixeira+ 2009\"]])"
   ]
  },
  {
   "cell_type": "code",
   "execution_count": 13,
   "metadata": {},
   "outputs": [],
   "source": [
    "                    # Name        T_mean    T_err1   T_err2   T_ref\n",
    "fix_teff = np.array([['GJ 163',     3500,      100,    -100,  \"Tuomi+ 2013\"],\n",
    "                     ['GJ 180',     3572,       51,     -51,  \"Schweitzer+ 2019\"],\n",
    "                     ['GJ 3138',    3717,       49,     -49,  \"Astudillo-Defru+ 2017\"],\n",
    "                     ['GJ 3293',    3466,       49,     -49,  \"Astudillo-Defru+ 2017\"],\n",
    "                     ['HD 20781',   5256,       29,     -29,  \"Udry+ 2019\"],\n",
    "                     ['HD 20794',   5490,       70,     -70,  \"Bernkopf+ 2012\"],\n",
    "                     ['HD 27894',   4920,       45,     -45,  \"Trevisan+ 2011\"],\n",
    "                     ['HD 31527',   5898,       13,     -13,  \"Udry+ 2019\"],\n",
    "                     ['HD 37124',   5763,       22,     -22,  \"Bonfanti+ 2015\"], \n",
    "                     ['HD 69830',   5394,       62,     -62,  \"Tanner+ 2015\"], \n",
    "                     ['Wolf 1061',  3342,       49,     -49,  \"Astudillo-Defru+ 2017\"],\n",
    "                     ['tau Cet',    5344,       29,     -29,  \"Santos+ 2004\"]])"
   ]
  },
  {
   "cell_type": "markdown",
   "metadata": {},
   "source": [
    "# Mass-luminosity relations"
   ]
  },
  {
   "cell_type": "code",
   "execution_count": 14,
   "metadata": {},
   "outputs": [],
   "source": [
    "# use Delfosse+ 2000 for GJ 3138 & GJ 3293 & Wolf-1061 (GJ 628)\n",
    "# see Astrudillo-Defru+ 2017 for luminosities\n",
    "V = np.array([11.87, 0.01])\n",
    "\n",
    "def logMv(x):\n",
    "    return 1e-3*(0.3 + 1.87*x + 7.6140*x**2 - 1.6980*x**3 + 0.060958*x**4)\n",
    "\n",
    "def logMk(x):\n",
    "    return 1e-3*(1.8 + 1.62*x + 13.205*x**2 - 6.2315*x**3 + 0.37529*x**4)\n",
    "\n",
    "\n",
    "Mv = 10**(logMv(V[0]))\n",
    "Mv_err = 10**(logMv(V[0]-V[1])) - Mv"
   ]
  },
  {
   "cell_type": "markdown",
   "metadata": {},
   "source": [
    "# Fill in the main catalog"
   ]
  },
  {
   "cell_type": "code",
   "execution_count": 15,
   "metadata": {},
   "outputs": [],
   "source": [
    "replace = np.isin(rv[\"hostname\"], rv[\"hostname\"][bad[\"M\"] + bad[\"R\"] + bad[\"T\"]])\n",
    "\n",
    "rv[\"st_mass\"][replace] = fix_mass[:,1]\n",
    "rv[\"st_masserr1\"][replace] = fix_mass[:,2]\n",
    "rv[\"st_masserr2\"][replace] = fix_mass[:,3]\n",
    "rv[\"st_mass_ref\"][replace] = fix_mass[:,4]\n",
    "\n",
    "rv[\"st_rad\"][replace] = fix_rad[:,1]\n",
    "rv[\"st_raderr1\"][replace] = fix_rad[:,2]\n",
    "rv[\"st_raderr2\"][replace] = fix_rad[:,3]\n",
    "rv[\"st_rad_ref\"][replace] = fix_rad[:,4]\n",
    "\n",
    "rv[\"st_teff\"][replace] = fix_teff[:,1]\n",
    "rv[\"st_tefferr1\"][replace] = fix_teff[:,2]\n",
    "rv[\"st_tefferr2\"][replace] = fix_teff[:,3]\n",
    "rv[\"st_teff_ref\"][replace] = fix_teff[:,4]"
   ]
  },
  {
   "cell_type": "markdown",
   "metadata": {},
   "source": [
    "# Check that all uncertainties are non-zero"
   ]
  },
  {
   "cell_type": "code",
   "execution_count": 16,
   "metadata": {},
   "outputs": [],
   "source": [
    "rv[\"st_mass\"] = np.array(rv[\"st_mass\"], dtype=\"float\")\n",
    "rv[\"st_masserr1\"] = np.array(rv[\"st_masserr1\"], dtype=\"float\")\n",
    "rv[\"st_masserr2\"] = np.array(rv[\"st_masserr2\"], dtype=\"float\")\n",
    "rv[\"st_masserr1\"][rv[\"st_masserr1\"] < 0.01] = 0.01\n",
    "rv[\"st_masserr2\"][rv[\"st_masserr1\"] > -0.01] = -0.01\n",
    "\n",
    "rv[\"st_rad\"] = np.array(rv[\"st_rad\"], dtype=\"float\")\n",
    "rv[\"st_raderr1\"] = np.array(rv[\"st_raderr1\"], dtype=\"float\")\n",
    "rv[\"st_raderr2\"] = np.array(rv[\"st_raderr2\"], dtype=\"float\")\n",
    "rv[\"st_raderr1\"][rv[\"st_raderr1\"] < 0.01] = 0.01\n",
    "rv[\"st_raderr2\"][rv[\"st_raderr1\"] > -0.01] = -0.01\n",
    "\n",
    "rv[\"st_teff\"] = np.array(rv[\"st_teff\"], dtype=\"float\")\n",
    "rv[\"st_tefferr1\"] = np.array(rv[\"st_tefferr1\"], dtype=\"float\")\n",
    "rv[\"st_tefferr2\"] = np.array(rv[\"st_tefferr2\"], dtype=\"float\")\n",
    "rv[\"st_tefferr1\"][rv[\"st_tefferr1\"] < 10] = 10\n",
    "rv[\"st_tefferr2\"][rv[\"st_tefferr1\"] > -10] = -10"
   ]
  },
  {
   "cell_type": "markdown",
   "metadata": {},
   "source": [
    "## TODO: \n",
    "1. Make references hyperlinks\n",
    "2. Include V_mag data\n",
    "3. Include discovery instrument/telescope\n",
    "4. Add code to automatically generate LaTeX table"
   ]
  },
  {
   "cell_type": "markdown",
   "metadata": {},
   "source": [
    "# Write out the RV stellar catalog"
   ]
  },
  {
   "cell_type": "code",
   "execution_count": 17,
   "metadata": {},
   "outputs": [
    {
     "name": "stdout",
     "output_type": "stream",
     "text": [
      "Writing complete!\n"
     ]
    }
   ],
   "source": [
    "WRITENEW = True\n",
    "if WRITENEW:\n",
    "    filepath = MAINPATH + 'Catalogs/rv_multis_stellar_manually_fixed.csv'\n",
    "\n",
    "    with open(filepath, \"w\") as outfile:\n",
    "        writer = csv.writer(outfile)\n",
    "        writer.writerow(rv.keys())\n",
    "        writer.writerows(zip(*rv.values()))\n",
    "\n",
    "print(\"Writing complete!\")"
   ]
  },
  {
   "cell_type": "markdown",
   "metadata": {},
   "source": [
    "# Reconcile the main catalog with the RV stellar catalog"
   ]
  },
  {
   "cell_type": "code",
   "execution_count": 18,
   "metadata": {},
   "outputs": [
    {
     "name": "stdout",
     "output_type": "stream",
     "text": [
      "total number of queried objects = 3903\n"
     ]
    }
   ],
   "source": [
    "# Read in the main catlog\n",
    "keys, vals = read_csv_file(oviraptor_file, k_index=0, v_index=1)\n",
    "\n",
    "my_catalog = {}\n",
    "for k in keys:\n",
    "    my_catalog[k] = np.array(get_csv_data(k, keys, vals))\n",
    "    \n",
    "\n",
    "# grab a reference key\n",
    "k0 = list(my_catalog.keys())[0]\n",
    "\n",
    "print('total number of queried objects =', len(my_catalog[k0]))"
   ]
  },
  {
   "cell_type": "code",
   "execution_count": 19,
   "metadata": {},
   "outputs": [],
   "source": [
    "for i, star in enumerate(rv[\"hostname\"]):\n",
    "    for k in rv.keys():\n",
    "        if (k != \"hostname\")*(k[-3:] != \"ref\"):\n",
    "            my_catalog[k][my_catalog[\"hostname\"] == star] = rv[k][rv[\"hostname\"] == star]"
   ]
  },
  {
   "cell_type": "code",
   "execution_count": 20,
   "metadata": {},
   "outputs": [
    {
     "name": "stdout",
     "output_type": "stream",
     "text": [
      "Writing complete!\n"
     ]
    }
   ],
   "source": [
    "WRITENEW = True\n",
    "if WRITENEW:\n",
    "    filepath = MAINPATH + 'Catalogs/oviraptor_B_manually_fixed.csv'\n",
    "\n",
    "    with open(filepath, \"w\") as outfile:\n",
    "        writer = csv.writer(outfile)\n",
    "        writer.writerow(my_catalog.keys())\n",
    "        writer.writerows(zip(*my_catalog.values()))\n",
    "\n",
    "print(\"Writing complete!\")"
   ]
  },
  {
   "cell_type": "code",
   "execution_count": null,
   "metadata": {},
   "outputs": [],
   "source": []
  }
 ],
 "metadata": {
  "kernelspec": {
   "display_name": "Python 3",
   "language": "python",
   "name": "python3"
  },
  "language_info": {
   "codemirror_mode": {
    "name": "ipython",
    "version": 3
   },
   "file_extension": ".py",
   "mimetype": "text/x-python",
   "name": "python",
   "nbconvert_exporter": "python",
   "pygments_lexer": "ipython3",
   "version": "3.7.3"
  }
 },
 "nbformat": 4,
 "nbformat_minor": 2
}
