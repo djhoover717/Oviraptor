{
 "cells": [
  {
   "cell_type": "code",
   "execution_count": 1,
   "metadata": {
    "scrolled": true
   },
   "outputs": [
    {
     "data": {
      "text/plain": [
       "'\\nExtracts RV data for the table in the paper.\\nOutputs the table\\n'"
      ]
     },
     "execution_count": 1,
     "metadata": {},
     "output_type": "execute_result"
    }
   ],
   "source": [
    "'''\n",
    "Extracts RV data for the table in the paper.\n",
    "Outputs the table\n",
    "'''"
   ]
  },
  {
   "cell_type": "code",
   "execution_count": 2,
   "metadata": {
    "scrolled": true
   },
   "outputs": [],
   "source": [
    "import numpy as np\n",
    "import csv\n",
    "from tabulate import tabulate\n",
    "from texttable import Texttable\n",
    "\n",
    "MJUPITER = 1.898e27     #all in SI units\n",
    "MEARTH = 5.972e24"
   ]
  },
  {
   "cell_type": "code",
   "execution_count": 3,
   "metadata": {
    "scrolled": true
   },
   "outputs": [],
   "source": [
    "class System:\n",
    "    def __init__(self, sysid=None):\n",
    "        \n",
    "        self.sysid = sysid"
   ]
  },
  {
   "cell_type": "code",
   "execution_count": 4,
   "metadata": {
    "scrolled": true
   },
   "outputs": [],
   "source": [
    "my_file = 'C:/Users/djhoo/Documents/Oviraptor-master/catalogues/oviraptor_crossmatch_catalog.csv'  #reading in file\n",
    "\n",
    "raw_data = []\n",
    "with open(my_file) as infile:\n",
    "    reader = csv.reader(infile)\n",
    "    \n",
    "    for row in reader:\n",
    "        raw_data.append(row)\n",
    "        \n",
    "KEYS = raw_data[0]\n",
    "VALUES = raw_data[1:]\n",
    "\n",
    "def get_key(keyname, keys = KEYS, values = VALUES):\n",
    "    i = keys.index(keyname)\n",
    "    arr = []\n",
    "    for row in values:\n",
    "        arr.append(row[i])\n",
    "    return np.array(arr)"
   ]
  },
  {
   "cell_type": "code",
   "execution_count": 5,
   "metadata": {
    "scrolled": true
   },
   "outputs": [],
   "source": [
    "d = {}\n",
    "d['starname'] = get_key('hostname')\n",
    "d['rs'] = get_key('st_rad')\n",
    "d['rs_lower'] = get_key('st_raderr2')\n",
    "d['rs_upper'] = get_key('st_raderr1')\n",
    "d['ms'] = get_key('st_mass')\n",
    "d['ms_lower'] = get_key('st_masserr2')\n",
    "d['ms_upper'] = get_key('st_masserr1')\n",
    "d['disc_method'] = get_key('discoverymethod')\n",
    "d['mag'] = get_key('sy_vmag')\n",
    "d['temp'] = get_key('st_teff')\n",
    "d['ref'] = get_key('st_refname')\n",
    "d['instrument'] = get_key('disc_facility')\n",
    "d['rp'] = get_key('pl_rade')\n",
    "d['mp'] = get_key('pl_bmasse')\n",
    "d['p'] = get_key('pl_orbper')"
   ]
  },
  {
   "cell_type": "code",
   "execution_count": 6,
   "metadata": {
    "scrolled": true
   },
   "outputs": [
    {
     "name": "stdout",
     "output_type": "stream",
     "text": [
      "total number of queried objects = 4097\n"
     ]
    }
   ],
   "source": [
    "KEY0 = 'starname'\n",
    "\n",
    "def is_number(s):\n",
    "    '''\n",
    "    checks if input string s is a number\n",
    "    or if every entry in a list s is a number\n",
    "    '''\n",
    "    if type(s) != list:\n",
    "        try:\n",
    "            float(s)\n",
    "            return True\n",
    "        except ValueError:\n",
    "            return False\n",
    "    else:\n",
    "        for part in s:\n",
    "            status = True\n",
    "            try:\n",
    "                float(part)\n",
    "                status = True\n",
    "            except ValueError:\n",
    "                status = False\n",
    "        return status\n",
    "\n",
    "def convert_to_arrays(d):\n",
    "    keys = d.keys()\n",
    "    dnew = {}\n",
    "    \n",
    "    for k in keys:\n",
    "        dnew[k] = np.asarray(d[k])\n",
    "        \n",
    "    return dnew\n",
    "\n",
    "d = convert_to_arrays(d)\n",
    "print('total number of queried objects =', len(d[KEY0]))\n",
    "\n",
    "for key in d.keys():\n",
    "    if is_number(d[key][0]):\n",
    "        for i in range(len(d[key])):\n",
    "            if d[key][i] == '':\n",
    "                d[key][i] = 0\n",
    "            \n",
    "\n",
    "def convert_floats(d):\n",
    "    '''\n",
    "    converts numerical arrays from strings to floats\n",
    "    '''\n",
    "    keys = d.keys()\n",
    "    dnew = {}\n",
    "    \n",
    "    for k in keys:\n",
    "        if is_number(d[k][0]):\n",
    "            dnew[k] = np.asarray(d[k],dtype='float')\n",
    "        else:\n",
    "            dnew[k] = np.asarray(d[k])\n",
    "    \n",
    "    return dnew\n",
    "\n",
    "\n",
    "# CONVERT STRINGS TO FLOATS (where applicable)\n",
    "d = convert_floats(d)"
   ]
  },
  {
   "cell_type": "code",
   "execution_count": 7,
   "metadata": {
    "scrolled": true
   },
   "outputs": [
    {
     "name": "stderr",
     "output_type": "stream",
     "text": [
      "<ipython-input-7-893f8c82dbc1>:70: FutureWarning: elementwise comparison failed; returning scalar instead, but in the future will perform elementwise comparison\n",
      "  s.masses = s.masses[s.radii != 0]\n",
      "<ipython-input-7-893f8c82dbc1>:71: FutureWarning: elementwise comparison failed; returning scalar instead, but in the future will perform elementwise comparison\n",
      "  s.periods = s.periods[s.radii != 0]\n",
      "<ipython-input-7-893f8c82dbc1>:72: FutureWarning: elementwise comparison failed; returning scalar instead, but in the future will perform elementwise comparison\n",
      "  s.radii = s.radii[s.radii != 0]\n"
     ]
    }
   ],
   "source": [
    "def legitimate_periods(periods, detection_method, max_period):\n",
    "    '''\n",
    "    This function is used to eliminate planets in RV systems with too long periods.\n",
    "    This is meant for RV planets, so planets detected by any other methods are ignored.\n",
    "    '''\n",
    "    entries = []\n",
    "    for i in range(len(periods)):\n",
    "        if periods[i] <= max_period and detection_method == 'Radial Velocity':\n",
    "            entries.append(True)\n",
    "        elif detection_method == 'Transit' or detection_method == 'Mixed':\n",
    "            entries.append(True)\n",
    "        else:\n",
    "            entries.append(False)\n",
    "    return np.array(entries)\n",
    "\n",
    "def legitimate_radii(radii, detection_method, min_radius):\n",
    "    '''\n",
    "    This function is used to eliminate planets in transit systems with too high radii.\n",
    "    This is meant for transit planets, so planets detected by any other methods are ignored.\n",
    "    '''\n",
    "    entries = []\n",
    "    for i in range(len(radii)):\n",
    "        if radii[i] >= min_radius and detection_method == 'Transit':\n",
    "            entries.append(True)\n",
    "        elif detection_method == 'Radial Velocity' or detection_method == 'Mixed':\n",
    "            entries.append(True)\n",
    "        else:\n",
    "            entries.append(False)\n",
    "    return np.array(entries)\n",
    "\n",
    "max_period = 1460                                                       #length of time used to create DR25 catalogue\n",
    "min_radius = min(d['rp'][d['disc_method'] == 'Radial Velocity'])        #minimum radius of an RV planet\n",
    "\n",
    "uniquesys = np.unique(d['starname'])\n",
    "systems = []\n",
    "for us in uniquesys:\n",
    "    s = System()                                               #I assume that each parameter is the same for all entries\n",
    "    \n",
    "    s.sysid = us\n",
    "    s.starname = d['starname'][d['starname']==us][0]\n",
    "    \n",
    "    s.Mstar = d['ms'][d['starname']==us][0]\n",
    "    s.Mstar_lower = d['ms_lower'][d['starname']==us][0]\n",
    "    s.Mstar_upper = d['ms_upper'][d['starname']==us][0]\n",
    "    \n",
    "    s.Rstar = d['rs'][d['starname']==us][0]\n",
    "    s.Rstar_lower = d['rs_lower'][d['starname']==us][0]\n",
    "    s.Rstar_upper = d['rs_upper'][d['starname']==us][0]\n",
    "    \n",
    "    s.detection_method = d['disc_method'][d['starname']==us][0]\n",
    "    s.mag = d['mag'][d['starname']==us][0]\n",
    "    s.temp = d['temp'][d['starname']==us][0]\n",
    "    s.ref = d['ref'][d['starname']==us][0]\n",
    "    s.instrument = d['instrument'][d['starname']==us][0]\n",
    "    \n",
    "    s.masses = d['mp'][d['starname']==us]\n",
    "    s.radii = d['rp'][d['starname']==us]\n",
    "    s.periods = d['p'][d['starname']==us]\n",
    "    \n",
    "    legitimate_entries = legitimate_periods(s.periods, s.detection_method, max_period)\n",
    "    s.masses = s.masses[legitimate_entries == True]\n",
    "    s.radii = s.radii[legitimate_entries == True]\n",
    "    s.periods = s.periods[legitimate_entries == True]\n",
    "    \n",
    "    legitimate_entries = legitimate_radii(s.radii, s.detection_method, min_radius)\n",
    "    s.masses = s.masses[legitimate_entries == True]\n",
    "    s.radii = s.radii[legitimate_entries == True]\n",
    "    s.periods = s.periods[legitimate_entries == True]\n",
    "    \n",
    "    s.masses = s.masses[s.radii != 0]\n",
    "    s.periods = s.periods[s.radii != 0]\n",
    "    s.radii = s.radii[s.radii != 0]\n",
    "    \n",
    "    s.periods = s.periods[s.masses*MEARTH/MJUPITER < 13]\n",
    "    s.radii = s.radii[s.masses*MEARTH/MJUPITER < 13]\n",
    "    s.masses = s.masses[s.masses*MEARTH/MJUPITER < 13]\n",
    "    \n",
    "    if len(s.masses) >= 3 and s.detection_method == 'Radial Velocity':\n",
    "        systems.append(s)"
   ]
  },
  {
   "cell_type": "code",
   "execution_count": 8,
   "metadata": {
    "scrolled": true
   },
   "outputs": [
    {
     "name": "stdout",
     "output_type": "stream",
     "text": [
      "32\n"
     ]
    }
   ],
   "source": [
    "print(len(systems))\n",
    "\n",
    "# Generates Latex table\n",
    "# Need to implement formatting the reference\n",
    "\n",
    "rows = []\n",
    "for s in systems:\n",
    "    row = [0]*11\n",
    "    row[0] = s.starname\n",
    "    row[1] = s.Mstar\n",
    "    row[2] = s.Mstar_upper\n",
    "    row[3] = s.Mstar_lower\n",
    "    row[4] = s.Rstar\n",
    "    row[5] = s.Rstar_upper\n",
    "    row[6] = s.Rstar_lower\n",
    "    row[7] = s.mag\n",
    "    row[8] = s.temp\n",
    "    row[9] = s.instrument\n",
    "    row[10] = s.ref[s.ref.index('r=')+2:s.ref.index('href')]\n",
    "    rows.append(row)"
   ]
  },
  {
   "cell_type": "code",
   "execution_count": 9,
   "metadata": {
    "scrolled": false
   },
   "outputs": [
    {
     "name": "stdout",
     "output_type": "stream",
     "text": [
      "\n",
      "Tabulate Latex:\n",
      "\\begin{tabular}{lrrrrrrrrll}\n",
      "\\hline\n",
      " 55 Cnc    &   0.95 &   0.0 &   0.0 &   0.96 &   0.0 &   0.0 &   5.95084 &   0.0 & Lick Observatory                   & BALUEV\\_2015                 \\\\\n",
      "\\hline\n",
      " 61 Vir    &   0.94 &  0.03 & -0.03 &   0.96 &  0.01 & -0.01 &   4.6955  &  5577 & Multiple Observatories             & VOGT\\_ET\\_AL\\_\\_2010            \\\\\n",
      " DMPP-1    &   1.21 &  0.03 & -0.03 &   1.26 &  0.02 & -0.02 &   7.98    &  6196 & La Silla Observatory               & STAAB\\_ET\\_AL\\_\\_2020           \\\\\n",
      " GJ 1061   &   0.12 &  0.01 & -0.01 &   0.16 &  0.01 & -0.01 &  12.7     &  2953 & La Silla Observatory               & DREIZLER\\_ET\\_AL\\_\\_2020        \\\\\n",
      " GJ 163    &   0    &  0    &  0    &   0    &  0    &  0    &  11.79    &     0 & La Silla Observatory               & BONFILS\\_ET\\_AL\\_\\_2013         \\\\\n",
      " GJ 180    &   0.43 &  0    &  0    &   0    &  0    &  0    &  10.914   &     0 & Multiple Observatories             & FENG\\_ET\\_AL\\_\\_2020            \\\\\n",
      " GJ 3138   &   0.68 &  0    &  0    &   0.5  &  0.03 & -0.03 &  10.8275  &  3717 & La Silla Observatory               & ASTUDILLO\\_DEFRU\\_ET\\_AL\\_\\_2017 \\\\\n",
      " GJ 3293   &   0.42 &  0    &  0    &   0.4  &  0.03 & -0.03 &  11.945   &  3466 & La Silla Observatory               & ASTUDILLO\\_DEFRU\\_ET\\_AL\\_\\_2017 \\\\\n",
      " GJ 581    &   0.31 &  0.02 & -0.02 &   0.33 &  0.01 & -0.01 &  10.57    &  3396 & La Silla Observatory               & STASSUN\\_ET\\_AL\\_\\_2019         \\\\\n",
      " GJ 676 A  &   0.73 &  0.21 & -0.21 &   0.69 &  0.07 & -0.07 &   9.58    &  3734 & La Silla Observatory               & STASSUN\\_ET\\_AL\\_\\_2017         \\\\\n",
      " GJ 876    &   0.32 &  0.03 & -0.03 &   0.3  &  0    &  0    &  10.16    &     0 & Multiple Observatories             & RIVERA\\_ET\\_AL\\_\\_2010          \\\\\n",
      " HD 10180  &   1.06 &  0.05 & -0.05 &   1.11 &  0.04 & -0.04 &   7.33    &  5911 & La Silla Observatory               & KANE\\_\\_AMP\\_\\_GELINO\\_2014      \\\\\n",
      " HD 136352 &   0.81 &  0    &  0    &   0    &  0    &  0    &   5.65    &  5664 & La Silla Observatory               & UDRY\\_ET\\_AL\\_\\_2019            \\\\\n",
      " HD 141399 &   1.07 &  0.08 & -0.08 &   0    &  0    &  0    &   7.20856 &  5600 & Multiple Observatories             & H\\_EACUTE\\_BRARD\\_ET\\_AL\\_\\_2016  \\\\\n",
      " HD 158259 &   1.08 &  0.1  & -0.1  &   1.21 &  0.03 & -0.08 &   6.47915 &     0 & Haute-Provence Observatory         & HARA\\_ET\\_AL\\_\\_2020            \\\\\n",
      " HD 160691 &   1.08 &  0    &  0    &   0    &  0    &  0    &   5.12    &     0 & Anglo-Australian Telescope         & PEPE\\_ET\\_AL\\_\\_2007            \\\\\n",
      " HD 164922 &   0.93 &  0.03 & -0.04 &   0.95 &  0.01 & -0.02 &   7.01227 &  5390 & W. M. Keck Observatory             & BENATTI\\_ET\\_AL\\_\\_2020         \\\\\n",
      " HD 20781  &   0.7  &  0    &  0    &   0    &  0    &  0    &   8.48    &  5256 & La Silla Observatory               & UDRY\\_ET\\_AL\\_\\_2019            \\\\\n",
      " HD 20794  &   0.7  &  0    &  0    &   0    &  0    &  0    &   4.26    &  5401 & La Silla Observatory               & PEPE\\_ET\\_AL\\_\\_2011            \\\\\n",
      " HD 215152 &   0.77 &  0.01 & -0.01 &   0.73 &  0.02 & -0.02 &   8.11    &  4935 & La Silla Observatory               & DELISLE\\_ET\\_AL\\_\\_2018         \\\\\n",
      " HD 219134 &   0.81 &  0.03 & -0.03 &   0.78 &  0.01 & -0.01 &   5.56911 &  4699 & Roque de los Muchachos Observatory & GILLON\\_ET\\_AL\\_\\_2017          \\\\\n",
      " HD 31527  &   0.96 &  0    &  0    &   0    &  0    &  0    &   7.49    &  5898 & La Silla Observatory               & UDRY\\_ET\\_AL\\_\\_2019            \\\\\n",
      " HD 34445  &   1.14 &  0.09 & -0.09 &   1.38 &  0.02 & -0.02 &   7.31    &  5879 & W. M. Keck Observatory             & STASSUN\\_ET\\_AL\\_\\_2017         \\\\\n",
      " HD 40307  &   0.77 &  0.05 & -0.05 &   0    &  0    &  0    &   7.17    &  4956 & La Silla Observatory               & TUOMI\\_ET\\_AL\\_\\_2013           \\\\\n",
      " HD 69830  &   0.86 &  0.03 & -0.03 &   0    &  0    &  0    &   5.96004 &  5385 & La Silla Observatory               & LOVIS\\_ET\\_AL\\_\\_2006           \\\\\n",
      " HD 7924   &   0.65 &  0.05 & -0.05 &   0.78 &  0.01 & -0.01 &   7.17896 &  5131 & W. M. Keck Observatory             & STASSUN\\_ET\\_AL\\_\\_2017         \\\\\n",
      " HIP 14810 &   1.01 &  0.19 & -0.19 &   1.07 &  0.08 & -0.08 &   8.52    &  5544 & W. M. Keck Observatory             & MENT\\_ET\\_AL\\_\\_2018            \\\\\n",
      " HIP 57274 &   0.29 &  0.3  & -0.3  &   0.78 &  0.05 & -0.05 &   8.97    &  4510 & W. M. Keck Observatory             & STASSUN\\_ET\\_AL\\_\\_2017         \\\\\n",
      " Wolf 1061 &   0.29 &  0    &  0    &   0.31 &  0.03 & -0.03 &  10.1     &  3342 & La Silla Observatory               & ASTUDILLO\\_DEFRU\\_ET\\_AL\\_\\_2017 \\\\\n",
      " YZ Cet    &   0.13 &  0.01 & -0.01 &   0.17 &  0.01 & -0.01 &   0       &  3056 & La Silla Observatory               & ASTUDILLO\\_DEFRU\\_ET\\_AL\\_\\_2017 \\\\\n",
      " tau Cet   &   0.78 &  0.01 & -0.01 &   0    &  0    &  0    &   3.49607 &     0 & Multiple Observatories             & FENG\\_ET\\_AL\\_\\_2017            \\\\\n",
      " ups And   &   1.3  &  0    &  0    &   1.56 &  0    &  0    &   4.09565 &     0 & Lick Observatory                   & CURIEL\\_ET\\_AL\\_\\_2011          \\\\\n",
      "\\hline\n",
      "\\end{tabular}\n"
     ]
    }
   ],
   "source": [
    "print('\\nTabulate Latex:')\n",
    "print(tabulate(rows, headers='firstrow', tablefmt='latex'))"
   ]
  },
  {
   "cell_type": "code",
   "execution_count": null,
   "metadata": {},
   "outputs": [],
   "source": []
  }
 ],
 "metadata": {
  "kernelspec": {
   "display_name": "Python 3",
   "language": "python",
   "name": "python3"
  },
  "language_info": {
   "codemirror_mode": {
    "name": "ipython",
    "version": 3
   },
   "file_extension": ".py",
   "mimetype": "text/x-python",
   "name": "python",
   "nbconvert_exporter": "python",
   "pygments_lexer": "ipython3",
   "version": "3.7.3"
  }
 },
 "nbformat": 4,
 "nbformat_minor": 4
}
